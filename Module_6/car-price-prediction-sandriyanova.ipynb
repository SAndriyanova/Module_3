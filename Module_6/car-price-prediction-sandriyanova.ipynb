{
 "cells": [
  {
   "cell_type": "code",
   "execution_count": 1,
   "id": "present-supply",
   "metadata": {
    "_cell_guid": "b1076dfc-b9ad-4769-8c92-a6c4dae69d19",
    "_uuid": "8f2839f25d086af736a60e9eeb907d3b93b6e0e5",
    "execution": {
     "iopub.execute_input": "2021-06-01T11:34:49.638271Z",
     "iopub.status.busy": "2021-06-01T11:34:49.637495Z",
     "iopub.status.idle": "2021-06-01T11:34:49.649398Z",
     "shell.execute_reply": "2021-06-01T11:34:49.650081Z",
     "shell.execute_reply.started": "2021-06-01T11:13:00.400955Z"
    },
    "papermill": {
     "duration": 0.05303,
     "end_time": "2021-06-01T11:34:49.650706",
     "exception": false,
     "start_time": "2021-06-01T11:34:49.597676",
     "status": "completed"
    },
    "tags": []
   },
   "outputs": [
    {
     "name": "stdout",
     "output_type": "stream",
     "text": [
      "/kaggle/input/car-price-prediction/sample_submission.csv\n",
      "/kaggle/input/car-price-prediction/car_links.csv\n",
      "/kaggle/input/car-price-prediction/auto_df.csv\n",
      "/kaggle/input/car-price-prediction/test.csv\n"
     ]
    }
   ],
   "source": [
    "# This Python 3 environment comes with many helpful analytics libraries installed\n",
    "# It is defined by the kaggle/python Docker image: https://github.com/kaggle/docker-python\n",
    "# For example, here's several helpful packages to load\n",
    "\n",
    "import numpy as np # linear algebra\n",
    "import pandas as pd # data processing, CSV file I/O (e.g. pd.read_csv)\n",
    "import json\n",
    "\n",
    "# Input data files are available in the read-only \"../input/\" directory\n",
    "# For example, running this (by clicking run or pressing Shift+Enter) will list all files under the input directory\n",
    "\n",
    "import os\n",
    "for dirname, _, filenames in os.walk('/kaggle/input'):\n",
    "    for filename in filenames:\n",
    "        print(os.path.join(dirname, filename))\n",
    "\n",
    "# You can write up to 20GB to the current directory (/kaggle/working/) that gets preserved as output when you create a version using \"Save & Run All\" \n",
    "# You can also write temporary files to /kaggle/temp/, but they won't be saved outside of the current session"
   ]
  },
  {
   "cell_type": "markdown",
   "id": "demanding-valuation",
   "metadata": {
    "papermill": {
     "duration": 0.027442,
     "end_time": "2021-06-01T11:34:49.707477",
     "exception": false,
     "start_time": "2021-06-01T11:34:49.680035",
     "status": "completed"
    },
    "tags": []
   },
   "source": [
    "<img src=\"https://whatcar.vn/media/2018/09/car-lot-940x470.jpg\"/>\n",
    "\n",
    "## Прогнозирование стоимости автомобиля по характеристикам\n"
   ]
  },
  {
   "cell_type": "code",
   "execution_count": 2,
   "id": "threaded-apollo",
   "metadata": {
    "execution": {
     "iopub.execute_input": "2021-06-01T11:34:49.770022Z",
     "iopub.status.busy": "2021-06-01T11:34:49.769338Z",
     "iopub.status.idle": "2021-06-01T11:34:51.296183Z",
     "shell.execute_reply": "2021-06-01T11:34:51.297434Z",
     "shell.execute_reply.started": "2021-06-01T11:13:00.411649Z"
    },
    "papermill": {
     "duration": 1.562563,
     "end_time": "2021-06-01T11:34:51.297698",
     "exception": false,
     "start_time": "2021-06-01T11:34:49.735135",
     "status": "completed"
    },
    "tags": []
   },
   "outputs": [],
   "source": [
    "'''Импортируем все необходимые библиотеки и инструменты для выполнения проекта'''\n",
    "import numpy as np\n",
    "import pandas as pd\n",
    "import sys\n",
    "pd.options.display.max_seq_items = None\n",
    "from sklearn.model_selection import train_test_split\n",
    "from sklearn.model_selection import KFold\n",
    "from tqdm.notebook import tqdm\n",
    "from catboost import CatBoostRegressor\n",
    "import warnings; warnings.simplefilter('ignore')\n",
    "import ast\n",
    "from sklearn.ensemble import ExtraTreesRegressor, StackingRegressor\n",
    "import xgboost as xgb\n",
    "from sklearn.preprocessing import LabelEncoder"
   ]
  },
  {
   "cell_type": "markdown",
   "id": "linear-match",
   "metadata": {
    "papermill": {
     "duration": 0.027624,
     "end_time": "2021-06-01T11:34:51.358522",
     "exception": false,
     "start_time": "2021-06-01T11:34:51.330898",
     "status": "completed"
    },
    "tags": []
   },
   "source": [
    "# Setup"
   ]
  },
  {
   "cell_type": "code",
   "execution_count": 3,
   "id": "olive-extension",
   "metadata": {
    "execution": {
     "iopub.execute_input": "2021-06-01T11:34:51.423082Z",
     "iopub.status.busy": "2021-06-01T11:34:51.422431Z",
     "iopub.status.idle": "2021-06-01T11:34:53.620436Z",
     "shell.execute_reply": "2021-06-01T11:34:53.619659Z",
     "shell.execute_reply.started": "2021-06-01T11:13:00.42095Z"
    },
    "papermill": {
     "duration": 2.233975,
     "end_time": "2021-06-01T11:34:53.620582",
     "exception": false,
     "start_time": "2021-06-01T11:34:51.386607",
     "status": "completed"
    },
    "tags": []
   },
   "outputs": [
    {
     "name": "stdout",
     "output_type": "stream",
     "text": [
      "Python       : 3.7.10 | packaged by conda-forge | (default, Feb 19 2021, 16:07:37) \n",
      "Numpy        : 1.19.5\n"
     ]
    }
   ],
   "source": [
    "VERSION    = 16\n",
    "VAL_SIZE   = 0.33   # 33%\n",
    "N_FOLDS    = 5\n",
    "\n",
    "print('Python       :', sys.version.split('\\n')[0])\n",
    "print('Numpy        :', np.__version__)\n",
    "# зафиксируем версию пакетов, чтобы эксперименты были воспроизводимы:\n",
    "!pip freeze > requirements.txt\n",
    "\n",
    "# всегда фиксируем RANDOM_SEED, чтобы эксперименты были воспроизводимы!\n",
    "RANDOM_SEED = 42\n",
    "\n",
    "'''Определяем функцию MAPE'''\n",
    "\n",
    "def mape(y_true, y_pred):\n",
    "    return np.mean(np.abs((y_pred-y_true)/y_true))"
   ]
  },
  {
   "cell_type": "markdown",
   "id": "acting-manitoba",
   "metadata": {
    "papermill": {
     "duration": 0.027718,
     "end_time": "2021-06-01T11:34:53.677389",
     "exception": false,
     "start_time": "2021-06-01T11:34:53.649671",
     "status": "completed"
    },
    "tags": []
   },
   "source": [
    "# Parsing"
   ]
  },
  {
   "cell_type": "code",
   "execution_count": 4,
   "id": "adverse-response",
   "metadata": {
    "execution": {
     "iopub.execute_input": "2021-06-01T11:34:53.741188Z",
     "iopub.status.busy": "2021-06-01T11:34:53.740482Z",
     "iopub.status.idle": "2021-06-01T11:34:53.744416Z",
     "shell.execute_reply": "2021-06-01T11:34:53.743789Z",
     "shell.execute_reply.started": "2021-06-01T11:13:02.418477Z"
    },
    "papermill": {
     "duration": 0.039301,
     "end_time": "2021-06-01T11:34:53.744553",
     "exception": false,
     "start_time": "2021-06-01T11:34:53.705252",
     "status": "completed"
    },
    "tags": []
   },
   "outputs": [
    {
     "data": {
      "text/plain": [
       "'знакомимся с тестовыми данными, которые нам уже даны, для того, \\n        чтобы собрать корректный файл с auto.ru'"
      ]
     },
     "execution_count": 4,
     "metadata": {},
     "output_type": "execute_result"
    }
   ],
   "source": [
    "'''Код парсинга закоментирован, поскольку выполнялся на компьютере перед составлением Kaggle ноутбука'''\n",
    "\n",
    "'''знакомимся с тестовыми данными, которые нам уже даны, для того, \n",
    "        чтобы собрать корректный файл с auto.ru'''\n",
    "\n",
    "#test = pd.read_csv('../input/car-price-prediction/test.csv')\n",
    "#test.info()"
   ]
  },
  {
   "cell_type": "code",
   "execution_count": 5,
   "id": "broad-symbol",
   "metadata": {
    "execution": {
     "iopub.execute_input": "2021-06-01T11:34:53.808662Z",
     "iopub.status.busy": "2021-06-01T11:34:53.807962Z",
     "iopub.status.idle": "2021-06-01T11:34:53.810430Z",
     "shell.execute_reply": "2021-06-01T11:34:53.811026Z",
     "shell.execute_reply.started": "2021-06-01T11:13:02.429966Z"
    },
    "papermill": {
     "duration": 0.037526,
     "end_time": "2021-06-01T11:34:53.811237",
     "exception": false,
     "start_time": "2021-06-01T11:34:53.773711",
     "status": "completed"
    },
    "tags": []
   },
   "outputs": [
    {
     "data": {
      "text/plain": [
       "'Cоставляем список URL адресов, с которых нам необходимо\\nспарсить данные внутри каждого бренда, представленного в тестовом датасете'"
      ]
     },
     "execution_count": 5,
     "metadata": {},
     "output_type": "execute_result"
    }
   ],
   "source": [
    "'''Cоставляем список URL адресов, с которых нам необходимо\n",
    "спарсить данные внутри каждого бренда, представленного в тестовом датасете'''\n",
    "\n",
    "# brands=(data.brand.unique()).tolist()\n",
    "# url = 'https://auto.ru/moskva/cars/'\n",
    "# cars_urls=[]\n",
    "# brand_urls=[]\n",
    "# for brand in brands:\n",
    "#     brand_url = url + brand + '/used/?page='\n",
    "#     for number in range(1, 100):\n",
    "#         response = requests.get(brand_url+str(number), headers={'User-Agent': 'Mozilla/5.0'})\n",
    "#         page = BeautifulSoup(response.text, 'html.parser')\n",
    "#         link_list = page.find_all('a', class_='Link ListingItemTitle-module__link')\n",
    "#         if len(link_list) !=0:\n",
    "#             for link in link_list:\n",
    "#                 cars_urls.append(link['href'])\n",
    "#         else:\n",
    "#             break\n",
    "#pd.Series(cars_urls).to_csv('car_links.csv', index=False)"
   ]
  },
  {
   "cell_type": "code",
   "execution_count": 6,
   "id": "introductory-paper",
   "metadata": {
    "execution": {
     "iopub.execute_input": "2021-06-01T11:34:53.873007Z",
     "iopub.status.busy": "2021-06-01T11:34:53.872289Z",
     "iopub.status.idle": "2021-06-01T11:34:53.881019Z",
     "shell.execute_reply": "2021-06-01T11:34:53.881587Z",
     "shell.execute_reply.started": "2021-06-01T11:13:02.44032Z"
    },
    "papermill": {
     "duration": 0.040901,
     "end_time": "2021-06-01T11:34:53.881774",
     "exception": false,
     "start_time": "2021-06-01T11:34:53.840873",
     "status": "completed"
    },
    "tags": []
   },
   "outputs": [
    {
     "data": {
      "text/plain": [
       "'Запускаем spider auto.py'"
      ]
     },
     "execution_count": 6,
     "metadata": {},
     "output_type": "execute_result"
    }
   ],
   "source": [
    "'''Устанавливаем scrapy для парсинга данных и пишем код для spider'''\n",
    "\n",
    "#Код для spider\n",
    "# import scrapy\n",
    "# import pandas as pd\n",
    "# import numpy as np\n",
    "# import json\n",
    "# import time\n",
    "\n",
    "\n",
    "# class CarSpider(scrapy.Spider):\n",
    "#     name = 'auto'\n",
    "#     start_urls = list(pd.read_csv('car_links.csv').values.flatten())\n",
    "\n",
    "#     def parse(self, response):\n",
    "#         data = {}\n",
    "#         script=response.xpath('//script[@id=\"initial-state\"]//text()').get()\n",
    "#         script2=response.xpath('//script[@type=\"application/ld+json\"]//text()').get()   \n",
    "#         json_data=json.loads(script)\n",
    "#         json_data2=json.loads(script2)     \n",
    "\n",
    "\n",
    "#         try:\n",
    "#             data['bodyType'] = json_data2['bodyType']\n",
    "#         except KeyError:\n",
    "#             data['bodyType'] = np.nan       \n",
    "#         try:\n",
    "#             data['brand'] = json_data2['brand']\n",
    "#         except KeyError:\n",
    "#             data['brand'] = np.nan\n",
    "#         data['car_url'] = response.url \n",
    "#         try:\n",
    "#             data['color'] = json_data2['color']\n",
    "#         except KeyError:\n",
    "#             data['color'] = np.nan             \n",
    "#         try:\n",
    "#             data['complectation_dict'] = json_data['card']['vehicle_info']['complectation']['available_options']\n",
    "#         except KeyError:\n",
    "#             data['complectation_dict'] = np.nan\n",
    "#         try:\n",
    "#             data['description'] = json_data2['description']\n",
    "#         except KeyError:\n",
    "#             data['description'] = np.nan\n",
    "#         try:\n",
    "#             data['engineDisplacement'] = json_data2['vehicleEngine']['engineDisplacement']\n",
    "#         except KeyError:\n",
    "#             data['engineDisplacement'] = np.nan       \n",
    "#         try:\n",
    "#             data['enginePower'] = json_data2['vehicleEngine']['enginePower']\n",
    "#         except KeyError:\n",
    "#             data['enginePower'] = np.nan \n",
    "#         try:\n",
    "#             data['equipment_dict'] = json_data['card']['vehicle_info']['equipment']\n",
    "#         except KeyError:\n",
    "#             data['equipment_dict'] = np.nan\n",
    "#         try:\n",
    "#             data['fuelType'] = json_data2['vehicleEngine']['fuelType']\n",
    "#         except KeyError:\n",
    "#             data['fuelType'] = np.nan\n",
    "#         try:\n",
    "#             data['image'] = json_data2['image']\n",
    "#         except KeyError:\n",
    "#             data['image'] = np.nan\n",
    "#         try:\n",
    "#             data['mileage'] = json_data['card']['state']['mileage']\n",
    "#         except KeyError:\n",
    "#             data['mileage'] = np.nan                \n",
    "#         try:\n",
    "#             data['modelDate'] = json_data2['modelDate']\n",
    "#         except KeyError:\n",
    "#             data['modelDate'] = np.nan\n",
    "#         try:\n",
    "#             data['model_info'] = json_data['card']['vehicle_info']['model_info']\n",
    "#         except KeyError:\n",
    "#             data['model_info'] = np.nan\n",
    "#         try:\n",
    "#             data['model_name'] = json_data2['name']\n",
    "#         except KeyError:\n",
    "#             data['model_name'] = np.nan\n",
    "#         try:\n",
    "#             data['name'] = json_data2['vehicleEngine']['name']\n",
    "#         except KeyError:\n",
    "#             data['name'] = np.nan\n",
    "#         try:\n",
    "#             data['numberOfDoors'] = json_data2['numberOfDoors']\n",
    "#         except KeyError:\n",
    "#             data['numberOfDoors'] = np.nan\n",
    "#         data['parsing_unixtime'] = int(time.time())\n",
    "#         try:\n",
    "#             data['priceCurrency'] = json_data2['offers']['priceCurrency']\n",
    "#         except KeyError:\n",
    "#             data['priceCurrency'] = np.nan\n",
    "#         try:\n",
    "#            data['productionDate'] = json_data2['productionDate']\n",
    "#         except KeyError:\n",
    "#            data['productionDate'] = np.nan       \n",
    "#         data['sell_id'] = response.css(\"div[title='Идентификатор объявления']::text\").get()\n",
    "#         try:\n",
    "#             data['super_gen'] = json_data['card']['vehicle_info']['tech_param']\n",
    "#         except KeyError:\n",
    "#             data['super_gen'] = np.nan\n",
    "#         try:\n",
    "#             data['vehicleConfiguration'] = json_data2['vehicleConfiguration']\n",
    "#         except KeyError:\n",
    "#             data['vehicleConfiguration'] = np.nan \n",
    "#         try:\n",
    "#             data['vehicleTransmission'] = json_data2['vehicleTransmission']\n",
    "#         except KeyError:\n",
    "#             data['vehicleTransmission'] = np.nan \n",
    "#         try:\n",
    "#             data['vendor'] = json_data['card']['vehicle_info']['vendor']\n",
    "#         except KeyError:\n",
    "#             data['vendor'] = np.nan\n",
    "#         try:\n",
    "#             data['Владельцы'] = response.css(\"li[class='CardInfoRow CardInfoRow_ownersCount'] span::text\").getall()[-1]\n",
    "#         except IndexError:\n",
    "#             data['Владельцы'] = np.nan\n",
    "#         try:\n",
    "#             data['Владение'] = response.css(\"li[class='CardInfoRow CardInfoRow_owningTime'] span::text\").getall()[-1]\n",
    "#         except IndexError:\n",
    "#             data['Владение'] = np.nan\n",
    "#         try:\n",
    "#             data['ПТС'] = json_data['card']['documents']['pts']\n",
    "#         except KeyError:\n",
    "#             data['ПТС'] = np.nan\n",
    "#         try:\n",
    "#             data['Привод'] = json_data['card']['vehicle_info']['tech_param']['gear_type']\n",
    "#         except KeyError:\n",
    "#             data['Привод'] = np.nan\n",
    "#         try:\n",
    "#             data['Руль'] = json_data['card']['vehicle_info']['steering_wheel']\n",
    "#         except KeyError:\n",
    "#             data['Руль'] = np.nan\n",
    "#         try:\n",
    "#             data['Состояние'] = json_data['card']['state']['state_not_beaten']\n",
    "#         except KeyError:\n",
    "#             data['Состояние'] = np.nan\n",
    "#         try:\n",
    "#             data['Таможня'] = json_data['card']['documents']['custom_cleared']\n",
    "#         except KeyError:\n",
    "#             data['Таможня'] = np.nan\n",
    "#         try:\n",
    "#             data['price'] = json_data2['offers']['price']\n",
    "#         except KeyError:\n",
    "#             data['price'] = np.nan\n",
    "\n",
    "#         yield data\n",
    "\n",
    "'''Запускаем spider auto.py'''\n",
    "#!scrapy crawl auto -o auto_df.csv"
   ]
  },
  {
   "cell_type": "code",
   "execution_count": 7,
   "id": "brilliant-worcester",
   "metadata": {
    "execution": {
     "iopub.execute_input": "2021-06-01T11:34:53.944498Z",
     "iopub.status.busy": "2021-06-01T11:34:53.943831Z",
     "iopub.status.idle": "2021-06-01T11:34:53.946378Z",
     "shell.execute_reply": "2021-06-01T11:34:53.946814Z",
     "shell.execute_reply.started": "2021-06-01T11:13:02.458875Z"
    },
    "papermill": {
     "duration": 0.035938,
     "end_time": "2021-06-01T11:34:53.946978",
     "exception": false,
     "start_time": "2021-06-01T11:34:53.911040",
     "status": "completed"
    },
    "tags": []
   },
   "outputs": [
    {
     "data": {
      "text/plain": [
       "'Проверяем, что колонки соответствуют файлу test, а также есть дополнительный столбец price'"
      ]
     },
     "execution_count": 7,
     "metadata": {},
     "output_type": "execute_result"
    }
   ],
   "source": [
    "'''Проверяем, что колонки соответствуют файлу test, а также есть дополнительный столбец price'''\n",
    "\n",
    "#train = pd.read_csv('../input/car-price-prediction/auto_df.csv')\n",
    "#train.info()"
   ]
  },
  {
   "cell_type": "markdown",
   "id": "lined-school",
   "metadata": {
    "papermill": {
     "duration": 0.02882,
     "end_time": "2021-06-01T11:34:54.004807",
     "exception": false,
     "start_time": "2021-06-01T11:34:53.975987",
     "status": "completed"
    },
    "tags": []
   },
   "source": [
    "# Data"
   ]
  },
  {
   "cell_type": "code",
   "execution_count": 8,
   "id": "enclosed-orange",
   "metadata": {
    "execution": {
     "iopub.execute_input": "2021-06-01T11:34:54.066435Z",
     "iopub.status.busy": "2021-06-01T11:34:54.065773Z",
     "iopub.status.idle": "2021-06-01T11:35:00.181810Z",
     "shell.execute_reply": "2021-06-01T11:35:00.180485Z",
     "shell.execute_reply.started": "2021-06-01T11:13:02.472471Z"
    },
    "papermill": {
     "duration": 6.147734,
     "end_time": "2021-06-01T11:35:00.181966",
     "exception": false,
     "start_time": "2021-06-01T11:34:54.034232",
     "status": "completed"
    },
    "tags": []
   },
   "outputs": [],
   "source": [
    "'''Вызываем датасеты для работы:\n",
    "1) Спарсенный датасет для обучения модели\n",
    "2) Тестовый датасет для валидации модели\n",
    "3) Форма подгрузки результатов в соревнование на Kaggle'''\n",
    "\n",
    "train = pd.read_csv('../input/car-price-prediction/auto_df.csv')\n",
    "test = pd.read_csv('../input/car-price-prediction/test.csv')\n",
    "sample_submission = pd.read_csv('../input/car-price-prediction/sample_submission.csv')"
   ]
  },
  {
   "cell_type": "markdown",
   "id": "piano-prescription",
   "metadata": {
    "papermill": {
     "duration": 0.028615,
     "end_time": "2021-06-01T11:35:00.240455",
     "exception": false,
     "start_time": "2021-06-01T11:35:00.211840",
     "status": "completed"
    },
    "tags": []
   },
   "source": [
    "# Data Preprocessing\n"
   ]
  },
  {
   "cell_type": "code",
   "execution_count": 9,
   "id": "touched-satisfaction",
   "metadata": {
    "execution": {
     "iopub.execute_input": "2021-06-01T11:35:00.312518Z",
     "iopub.status.busy": "2021-06-01T11:35:00.311845Z",
     "iopub.status.idle": "2021-06-01T11:35:00.363393Z",
     "shell.execute_reply": "2021-06-01T11:35:00.362835Z",
     "shell.execute_reply.started": "2021-06-01T11:13:07.820112Z"
    },
    "papermill": {
     "duration": 0.093459,
     "end_time": "2021-06-01T11:35:00.363538",
     "exception": false,
     "start_time": "2021-06-01T11:35:00.270079",
     "status": "completed"
    },
    "tags": []
   },
   "outputs": [],
   "source": [
    "'''Обрабатываем тренировочные данные, убираем строки с пропусками в целевой переменной\n",
    "        и строчки с дубликатами по sell_id '''\n",
    "\n",
    "train = train[train['price'].notna()]\n",
    "train = train.drop_duplicates(subset=['sell_id'])"
   ]
  },
  {
   "cell_type": "code",
   "execution_count": 10,
   "id": "dedicated-mistake",
   "metadata": {
    "execution": {
     "iopub.execute_input": "2021-06-01T11:35:00.454723Z",
     "iopub.status.busy": "2021-06-01T11:35:00.443980Z",
     "iopub.status.idle": "2021-06-01T11:35:53.764305Z",
     "shell.execute_reply": "2021-06-01T11:35:53.763082Z",
     "shell.execute_reply.started": "2021-06-01T11:13:07.876309Z"
    },
    "papermill": {
     "duration": 53.371829,
     "end_time": "2021-06-01T11:35:53.764467",
     "exception": false,
     "start_time": "2021-06-01T11:35:00.392638",
     "status": "completed"
    },
    "tags": []
   },
   "outputs": [],
   "source": [
    "'''Разворачиваем словари complectation_dict и equipment_dict'''\n",
    "\n",
    "test['complectation_dict'] = test['complectation_dict'].apply(\n",
    "    lambda x: [] if pd.isna(x) else json.loads(x)['available_options'])\n",
    "train['complectation_dict'] = train['complectation_dict'].fillna('')\n",
    "train['complectation_dict'] = train['complectation_dict'].apply(\n",
    "    lambda x: x.split(','))\n",
    "\n",
    "train.equipment_dict = train.equipment_dict.apply(\n",
    "    lambda x: np.nan if x == '{}' else x)\n",
    "train.equipment_dict = train.equipment_dict.str.replace(\"'\", \"\\\"\")\n",
    "train.equipment_dict = train.equipment_dict.apply(\n",
    "    lambda x: {'no_dict': True} if pd.isna(x) else ast.literal_eval(x))\n",
    "test.equipment_dict = test.equipment_dict.apply(\n",
    "    lambda x: {\"no_dict\": True} if pd.isna(x) else json.loads(x))\n",
    "\n",
    "equipment_train = pd.DataFrame.from_dict(train['equipment_dict'])\n",
    "equipment_train_expand = equipment_train.equipment_dict.apply(pd.Series)\n",
    "equipment_train_expand_fillNaN = equipment_train_expand.fillna(int(0))\n",
    "train_equip_df = equipment_train_expand_fillNaN.replace(True, int(1))\n",
    "\n",
    "equipment_test = pd.DataFrame.from_dict(test['equipment_dict'])\n",
    "equipment_test_expand = equipment_test.equipment_dict.apply(pd.Series)\n",
    "equipment_test_expand_fillNaN = equipment_test_expand.fillna(int(0))\n",
    "test_equip_df = equipment_test_expand_fillNaN.replace(True, int(1))\n",
    "\n",
    "equipment_df = pd.concat(\n",
    "    [train_equip_df, test_equip_df], axis=0, ignore_index=True)\n",
    "equipment_data = pd.DataFrame(equipment_df)\n",
    "equipment_data.dropna(axis=1, inplace=True)"
   ]
  },
  {
   "cell_type": "code",
   "execution_count": 11,
   "id": "greater-studio",
   "metadata": {
    "execution": {
     "iopub.execute_input": "2021-06-01T11:35:53.832524Z",
     "iopub.status.busy": "2021-06-01T11:35:53.831842Z",
     "iopub.status.idle": "2021-06-01T11:35:54.211723Z",
     "shell.execute_reply": "2021-06-01T11:35:54.211105Z",
     "shell.execute_reply.started": "2021-06-01T11:13:56.733422Z"
    },
    "papermill": {
     "duration": 0.417304,
     "end_time": "2021-06-01T11:35:54.211865",
     "exception": false,
     "start_time": "2021-06-01T11:35:53.794561",
     "status": "completed"
    },
    "tags": []
   },
   "outputs": [
    {
     "data": {
      "text/plain": [
       "bodyType                         1\n",
       "brand                            0\n",
       "car_url                          0\n",
       "color                            0\n",
       "complectation_dict               0\n",
       "                                ..\n",
       "advanced-frontlighting-system    0\n",
       "parktronik                       0\n",
       "seats-9                          0\n",
       "24-inch-wheels                   0\n",
       "23-inch-wheels                   0\n",
       "Length: 231, dtype: int64"
      ]
     },
     "execution_count": 11,
     "metadata": {},
     "output_type": "execute_result"
    }
   ],
   "source": [
    "'''Объединяем данные для обработки полного датасета'''\n",
    "\n",
    "train['Train'] = 1 \n",
    "test['Train'] = 0\n",
    "test['price'] = 0\n",
    "df_input = train.append(test, sort=False).reset_index(drop=True)\n",
    "df_input = pd.concat([df_input, equipment_data], axis=1, join=\"inner\")\n",
    "df_input.isnull().sum()"
   ]
  },
  {
   "cell_type": "code",
   "execution_count": 12,
   "id": "little-beatles",
   "metadata": {
    "execution": {
     "iopub.execute_input": "2021-06-01T11:35:54.291096Z",
     "iopub.status.busy": "2021-06-01T11:35:54.285666Z",
     "iopub.status.idle": "2021-06-01T11:35:54.301693Z",
     "shell.execute_reply": "2021-06-01T11:35:54.300945Z",
     "shell.execute_reply.started": "2021-06-01T11:13:57.093698Z"
    },
    "papermill": {
     "duration": 0.059991,
     "end_time": "2021-06-01T11:35:54.301842",
     "exception": false,
     "start_time": "2021-06-01T11:35:54.241851",
     "status": "completed"
    },
    "tags": []
   },
   "outputs": [],
   "source": [
    "'''Определеяем функцию, которая исправит остальные неточности в данных'''\n",
    "\n",
    "\n",
    "def preproc_data(df_input):\n",
    "\n",
    "    df_output = df_input.copy()\n",
    "\n",
    "    #################### Предобработка ##############################################################\n",
    "    df_output.columns = ['body_type', 'brand', 'car_url', 'color', 'complectation_dict',\n",
    "                         'description', 'engine_displacement', 'engine_power', 'equipment_dict',\n",
    "                         'fuel_type', 'image', 'mileage', 'model_date', 'model_info', 'model_name',\n",
    "                         'name', 'number_of_doors', 'parsing_unixtime', 'price_currency',\n",
    "                         'production_date', 'sell_id', 'super_gen', 'vehicle_configuration',\n",
    "                         'vehicle_transmission', 'vendor', 'owners', 'ownership', 'PTS',\n",
    "                         'drive', 'driving_wheel', 'status', 'customs', 'price', 'Train',\n",
    "                         'cruise-control', 'tinted-glass', 'esp', 'usb', 'multi-wheel',\n",
    "                         'heated-wash-system', 'ashtray-and-cigarette-lighter',\n",
    "                         'airbag-passenger', 'front-centre-armrest', 'apple-carplay',\n",
    "                         'roof-rails', 'decorative-interior-lighting', 'isofix-front', 'lock',\n",
    "                         'rear-camera', 'door-sill-panel', 'servo',\n",
    "                         'steering-wheel-gear-shift-paddles', 'electro-mirrors',\n",
    "                         'electro-window-back', '18-inch-wheels', 'mirrors-heat',\n",
    "                         'body-mouldings', 'dark-interior', 'park-assist-f', 'combo-interior',\n",
    "                         'rear-seats-heat', 'cooling-box', 'led-lights', 'driver-seat-memory',\n",
    "                         'sport-pedals', 'park-assist-r', 'engine-proof', 'glonass',\n",
    "                         'airbag-driver', 'aux', 'isofix', 'electro-window-front',\n",
    "                         'drive-mode-sys', 'light-sensor', 'airbag-curtain',\n",
    "                         'passenger-seat-updown', 'collision-prevention-assist', 'computer',\n",
    "                         'keyless-entry', 'seat-transformation', 'android-auto', 'light-cleaner',\n",
    "                         'driver-seat-electric', 'alloy-wheel-disks', 'ptf',\n",
    "                         'leather-gear-stick', 'start-button', 'rain-sensor', 'seats-5',\n",
    "                         'airbag-side', 'voice-recognition', 'tyre-pressure', 'audiosystem-cd',\n",
    "                         'electronic-gage-panel', 'abs', 'bluetooth', 'front-seats-heat',\n",
    "                         'power-child-locks-rear-doors', 'wheel-leather', 'wheel-configuration2',\n",
    "                         'wheel-configuration1', 'immo', 'climate-control-2', 'auto-mirrors',\n",
    "                         '12v-socket', 'third-rear-headrest', 'asr', 'adaptive-light',\n",
    "                         'audiopreparation', 'auto-park', 'xenon', 'lane-keeping-assist',\n",
    "                         'navigation', 'folding-front-passenger-seat', 'leather', 'seat-memory',\n",
    "                         'knee-airbag', 'start-stop-function',\n",
    "                         'roller-blinds-for-rear-side-windows', 'hcc',\n",
    "                         'automatic-lighting-control', 'high-beam-assist', 'alarm',\n",
    "                         'airbag-rear-side', 'blind-spot', 'traffic-sign-recognition',\n",
    "                         'auto-cruise', 'electro-trunk', 'windscreen-heat', 'spare-wheel', 'bas',\n",
    "                         'feedback-alarm', 'volume-sensor', '17-inch-wheels', 'condition',\n",
    "                         'wheel-power', 'fabric-seats', 'steel-wheels', '14-inch-wheels', 'drl',\n",
    "                         'audiosystem-tv', 'front-seat-support', 'climate-control-1',\n",
    "                         'driver-seat-updown', '16-inch-wheels', 'wheel-heat', 'no_dict',\n",
    "                         'armored', 'panorama-roof', 'remote-engine-start', 'music-super',\n",
    "                         'turnbuckle', 'velvet-seats', 'light-interior', '15-inch-wheels',\n",
    "                         'sport-seats', 'paint-metallic', 'hatch', 'passenger-seat-electric',\n",
    "                         'multizone-climate-control', 'front-seats-heat-vent', '360-camera',\n",
    "                         '220v-socket', 'folding-tables-rear', 'reduce-spare-wheel',\n",
    "                         'windcleaner-heat', 'programmed-block-heater', 'activ-suspension',\n",
    "                         'seats-7', 'third-row-seats', '19-inch-wheels', 'wireless-charger',\n",
    "                         'rear-seat-heat-vent', 'seats-4', 'black-roof', 'eco-leather',\n",
    "                         'driver-seat-support', 'vsm', 'roller-blind-for-rear-window',\n",
    "                         'e-adjustment-wheel', 'electro-rear-seat', 'easy-trunk-opening',\n",
    "                         'alcantara', 'dha', 'entertainment-system-for-rear-seat-passengers',\n",
    "                         'ya-auto', 'sport-suspension', 'front-camera',\n",
    "                         'drowsy-driver-alert-system', 'power-latching-doors',\n",
    "                         'projection-display', 'adj-pedals', 'laser-lights', 'gbo', 'seats-2',\n",
    "                         'airbrush', 'air-suspension', 'laminated-safety-glass', 'night-vision',\n",
    "                         'wheel-memory', '13-inch-wheels', 'seats-heat', 'electro-window-all',\n",
    "                         'passenger-seat-manual', 'halogen', 'driver-seat-manual',\n",
    "                         'climate-control', 'audiosystem', '20-inch-wheels', 'massage-seats',\n",
    "                         'body-kit', '21-inch-wheels', '22-inch-wheels', '12-inch-wheels',\n",
    "                         'seats-6', '6XE', 'PX2', '3L5', '6NQ', 'seats-8', 'electro-seat',\n",
    "                         'wheel-configuration3', '27-inch-wheels', 'passenger-seat-memory',\n",
    "                         'climate-control-3', 'immobiliser-not-standard',\n",
    "                         'advanced-frontlighting-system', 'parktronik', 'seats-9',\n",
    "                         '24-inch-wheels', '23-inch-wheels']\n",
    "\n",
    "    df_output.drop(['customs', 'status', 'sell_id', 'car_url',\n",
    "                    'ownership', 'equipment_dict', 'image', 'price_currency', 'parsing_unixtime'],\n",
    "                   axis=1, inplace=True)\n",
    "\n",
    "    df_output['body_type'] = df_output.body_type.fillna(\n",
    "        df_output['body_type'].mode()[0])\n",
    "    df_output['fuel_type'] = df_output.fuel_type.fillna(\n",
    "        df_output['fuel_type'].mode()[0])\n",
    "    df_output['model_date'] = df_output.model_date.fillna(\n",
    "        df_output['model_date'].mode()[0])\n",
    "    df_output['name'] = df_output.name.fillna(df_output['name'].mode()[0])\n",
    "    df_output['number_of_doors'] = df_output.number_of_doors.fillna(\n",
    "        df_output['number_of_doors'].mode()[0])\n",
    "    df_output['vehicle_configuration'] = df_output.vehicle_configuration.fillna(\n",
    "        df_output['vehicle_configuration'].mode()[0])\n",
    "    df_output['vehicle_transmission'] = df_output.vehicle_transmission.fillna(\n",
    "        df_output['vehicle_transmission'].mode()[0])\n",
    "    df_output['PTS'] = df_output.PTS.fillna(df_output['PTS'].mode()[0])\n",
    "    df_output['drive'] = df_output.drive.fillna(df_output['drive'].mode()[0])\n",
    "    df_output['price'] = df_output.price.apply(\n",
    "        lambda x: np.log(x) if x != 0 else x)\n",
    "    df_output['price'] = df_output.price.apply(\n",
    "        lambda x: np.log(x) if x != 0 else x)\n",
    "\n",
    "    # ################### Feature Engineering ####################################################\n",
    "    df_output['complectation_dict_length'] = df_output['complectation_dict'].map(\n",
    "        len)\n",
    "    df_output['complectation_dict_presence'] = df_output['complectation_dict_length'].apply(\n",
    "        lambda x: 0 if x == 0 else 1)\n",
    "\n",
    "    ##################### fix ##############################################################\n",
    "    # Переводим признаки из float в int (иначе catboost выдает ошибку)\n",
    "    for feature in ['model_date', 'number_of_doors', 'production_date', 'mileage']:\n",
    "        df_output[feature] = df_output[feature].astype('int32')\n",
    "\n",
    "    # Переводим категориальные признаки в dummy-переменные\n",
    "    label_encoder = LabelEncoder()\n",
    "\n",
    "    cat_cols=['body_type', 'brand', 'color','engine_displacement', 'engine_power',\n",
    "          'fuel_type', 'model_info', 'model_name','name','vehicle_configuration',\n",
    "          'vehicle_transmission', 'vendor', 'owners', 'PTS','drive', 'driving_wheel']\n",
    "    \n",
    "    for feature in cat_cols:\n",
    "        df_output[feature] = label_encoder.fit_transform(df_output[feature])\n",
    "    \n",
    "    df_output=pd.get_dummies(df_output, prefix=cat_cols, columns=cat_cols)\n",
    "\n",
    "    ##################### Clean ####################################################\n",
    "\n",
    "    df_output.drop(['description', 'complectation_dict',\n",
    "                    'super_gen'], axis=1, inplace=True)\n",
    "\n",
    "    return df_output"
   ]
  },
  {
   "cell_type": "code",
   "execution_count": 13,
   "id": "smaller-technique",
   "metadata": {
    "execution": {
     "iopub.execute_input": "2021-06-01T11:35:54.367485Z",
     "iopub.status.busy": "2021-06-01T11:35:54.366802Z",
     "iopub.status.idle": "2021-06-01T11:35:59.394095Z",
     "shell.execute_reply": "2021-06-01T11:35:59.393515Z",
     "shell.execute_reply.started": "2021-06-01T11:13:57.119751Z"
    },
    "papermill": {
     "duration": 5.062535,
     "end_time": "2021-06-01T11:35:59.394254",
     "exception": false,
     "start_time": "2021-06-01T11:35:54.331719",
     "status": "completed"
    },
    "tags": []
   },
   "outputs": [
    {
     "data": {
      "text/plain": [
       "mileage            0\n",
       "model_date         0\n",
       "number_of_doors    0\n",
       "production_date    0\n",
       "price              0\n",
       "                  ..\n",
       "drive_5            0\n",
       "driving_wheel_0    0\n",
       "driving_wheel_1    0\n",
       "driving_wheel_2    0\n",
       "driving_wheel_3    0\n",
       "Length: 8972, dtype: int64"
      ]
     },
     "execution_count": 13,
     "metadata": {},
     "output_type": "execute_result"
    }
   ],
   "source": [
    "'''Почистим датасет для обучения модели'''\n",
    "\n",
    "data_clean=preproc_data(df_input)\n",
    "data_clean.isnull().sum()"
   ]
  },
  {
   "cell_type": "code",
   "execution_count": 14,
   "id": "listed-underwear",
   "metadata": {
    "execution": {
     "iopub.execute_input": "2021-06-01T11:35:59.457454Z",
     "iopub.status.busy": "2021-06-01T11:35:59.456287Z",
     "iopub.status.idle": "2021-06-01T11:36:04.477692Z",
     "shell.execute_reply": "2021-06-01T11:36:04.477027Z",
     "shell.execute_reply.started": "2021-06-01T11:14:01.976585Z"
    },
    "papermill": {
     "duration": 5.0539,
     "end_time": "2021-06-01T11:36:04.477831",
     "exception": false,
     "start_time": "2021-06-01T11:35:59.423931",
     "status": "completed"
    },
    "tags": []
   },
   "outputs": [],
   "source": [
    "train_data = data_clean.query('Train == 1').drop(['Train'], axis=1)\n",
    "test_data = data_clean.query('Train == 0').drop(['Train'], axis=1)\n",
    "\n",
    "y = train_data.price.values \n",
    "X = train_data.drop(['price'], axis=1)\n",
    "Test_data = test_data.drop(['price'], axis=1)"
   ]
  },
  {
   "cell_type": "markdown",
   "id": "confused-filter",
   "metadata": {
    "papermill": {
     "duration": 0.030139,
     "end_time": "2021-06-01T11:36:04.539089",
     "exception": false,
     "start_time": "2021-06-01T11:36:04.508950",
     "status": "completed"
    },
    "tags": []
   },
   "source": [
    "## Train Split\n"
   ]
  },
  {
   "cell_type": "code",
   "execution_count": 15,
   "id": "dangerous-device",
   "metadata": {
    "execution": {
     "iopub.execute_input": "2021-06-01T11:36:04.605877Z",
     "iopub.status.busy": "2021-06-01T11:36:04.605249Z",
     "iopub.status.idle": "2021-06-01T11:36:06.070314Z",
     "shell.execute_reply": "2021-06-01T11:36:06.069609Z",
     "shell.execute_reply.started": "2021-06-01T11:14:06.75295Z"
    },
    "papermill": {
     "duration": 1.501744,
     "end_time": "2021-06-01T11:36:06.070479",
     "exception": false,
     "start_time": "2021-06-01T11:36:04.568735",
     "status": "completed"
    },
    "tags": []
   },
   "outputs": [],
   "source": [
    "X_train, X_test, y_train, y_test = train_test_split(X, y, test_size=VAL_SIZE, shuffle=True, \n",
    "                                                    random_state=RANDOM_SEED)"
   ]
  },
  {
   "cell_type": "markdown",
   "id": "physical-architect",
   "metadata": {
    "papermill": {
     "duration": 0.030667,
     "end_time": "2021-06-01T11:36:06.133389",
     "exception": false,
     "start_time": "2021-06-01T11:36:06.102722",
     "status": "completed"
    },
    "tags": []
   },
   "source": [
    "# CatBoost\n",
    "![](https://pbs.twimg.com/media/DP-jUCyXcAArRTo.png:large)   \n",
    "\n",
    "\n",
    "У нас в данных практически все признаки категориальные. Специально для работы с такими данными была создана очень удобная библиотека CatBoost от Яндекса. [https://catboost.ai](http://)     \n",
    "На данный момент **CatBoost является одной из лучших библиотек для табличных данных!**\n",
    "\n",
    "#### Полезные видео о CatBoost (на русском):\n",
    "* [Доклад про CatBoost](https://youtu.be/9ZrfErvm97M)\n",
    "* [Свежий Туториал от команды CatBoost (практическая часть)](https://youtu.be/wQt4kgAOgV0) "
   ]
  },
  {
   "cell_type": "markdown",
   "id": "invalid-specific",
   "metadata": {
    "papermill": {
     "duration": 0.030084,
     "end_time": "2021-06-01T11:36:06.194902",
     "exception": false,
     "start_time": "2021-06-01T11:36:06.164818",
     "status": "completed"
    },
    "tags": []
   },
   "source": [
    "## Grid Search"
   ]
  },
  {
   "cell_type": "code",
   "execution_count": 16,
   "id": "specified-mystery",
   "metadata": {
    "execution": {
     "iopub.execute_input": "2021-06-01T11:36:06.261234Z",
     "iopub.status.busy": "2021-06-01T11:36:06.260444Z",
     "iopub.status.idle": "2021-06-01T11:36:06.264672Z",
     "shell.execute_reply": "2021-06-01T11:36:06.264050Z",
     "shell.execute_reply.started": "2021-06-01T11:14:08.114121Z"
    },
    "papermill": {
     "duration": 0.039257,
     "end_time": "2021-06-01T11:36:06.264810",
     "exception": false,
     "start_time": "2021-06-01T11:36:06.225553",
     "status": "completed"
    },
    "tags": []
   },
   "outputs": [
    {
     "data": {
      "text/plain": [
       "'Подбираем оптимальные параметры для модели CatBoost'"
      ]
     },
     "execution_count": 16,
     "metadata": {},
     "output_type": "execute_result"
    }
   ],
   "source": [
    " '''Подбираем оптимальные параметры для модели CatBoost'''\n",
    "    \n",
    "#best_params_model = CatBoostRegressor()\n",
    "#grid= {'iterations': [500],\n",
    "              #'learning_rate': [0.01, 0.1, 0.25, 0.5],\n",
    "              #'l2_leaf_reg': [1, 3, 5, 10],\n",
    "              #'depth': np.arange(10, 14),\n",
    "              #'thread_count': [4]}\n",
    "\n",
    "#best_params_model.grid_search(grid, X=X, y=y,cv=5) \n",
    "\n",
    "#best_params_model.fit(X, y)\n",
    "\n",
    "#best_params_model.get_params()"
   ]
  },
  {
   "cell_type": "markdown",
   "id": "studied-acceptance",
   "metadata": {
    "papermill": {
     "duration": 0.029579,
     "end_time": "2021-06-01T11:36:06.325638",
     "exception": false,
     "start_time": "2021-06-01T11:36:06.296059",
     "status": "completed"
    },
    "tags": []
   },
   "source": [
    "## Fit"
   ]
  },
  {
   "cell_type": "code",
   "execution_count": 17,
   "id": "hollywood-sugar",
   "metadata": {
    "execution": {
     "iopub.execute_input": "2021-06-01T11:36:06.415139Z",
     "iopub.status.busy": "2021-06-01T11:36:06.404845Z",
     "iopub.status.idle": "2021-06-01T11:36:59.033703Z",
     "shell.execute_reply": "2021-06-01T11:36:59.034242Z",
     "shell.execute_reply.started": "2021-06-01T11:14:08.119864Z"
    },
    "papermill": {
     "duration": 52.679047,
     "end_time": "2021-06-01T11:36:59.034447",
     "exception": false,
     "start_time": "2021-06-01T11:36:06.355400",
     "status": "completed"
    },
    "tags": []
   },
   "outputs": [
    {
     "name": "stdout",
     "output_type": "stream",
     "text": [
      "0:\tlearn: 0.0168115\ttest: 0.0167766\tbest: 0.0167766 (0)\ttotal: 172ms\tremaining: 1m 25s\n",
      "100:\tlearn: 0.0036590\ttest: 0.0043030\tbest: 0.0043030 (100)\ttotal: 10.1s\tremaining: 39.8s\n",
      "200:\tlearn: 0.0030296\ttest: 0.0040144\tbest: 0.0040144 (200)\ttotal: 19.9s\tremaining: 29.6s\n",
      "300:\tlearn: 0.0026870\ttest: 0.0039258\tbest: 0.0039255 (298)\ttotal: 29.8s\tremaining: 19.7s\n",
      "400:\tlearn: 0.0024116\ttest: 0.0038651\tbest: 0.0038642 (399)\ttotal: 39.9s\tremaining: 9.84s\n",
      "499:\tlearn: 0.0021704\ttest: 0.0038332\tbest: 0.0038332 (499)\ttotal: 49.7s\tremaining: 0us\n",
      "\n",
      "bestTest = 0.003833240132\n",
      "bestIteration = 499\n",
      "\n"
     ]
    }
   ],
   "source": [
    "model = CatBoostRegressor(loss_function='RMSE',\n",
    "                          thread_count=4,\n",
    "                          depth=10,\n",
    "                          l2_leaf_reg=1,\n",
    "                          iterations=500,\n",
    "                          learning_rate= 0.25,\n",
    "                          random_seed = RANDOM_SEED,\n",
    "                          eval_metric='MAPE',\n",
    "                          custom_metric=['R2', 'MAE']\n",
    "                         )\n",
    "model.fit(X_train, y_train,\n",
    "          #cat_features=cat_features_ids,\n",
    "          eval_set=(X_test, y_test),\n",
    "          verbose_eval=100,\n",
    "          use_best_model=True,\n",
    "        #  plot=True\n",
    "         )\n",
    "\n",
    "model.save_model('catboost.model')\n",
    "\n"
   ]
  },
  {
   "cell_type": "code",
   "execution_count": 18,
   "id": "grave-insert",
   "metadata": {
    "execution": {
     "iopub.execute_input": "2021-06-01T11:36:59.109431Z",
     "iopub.status.busy": "2021-06-01T11:36:59.108654Z",
     "iopub.status.idle": "2021-06-01T11:36:59.466736Z",
     "shell.execute_reply": "2021-06-01T11:36:59.466226Z",
     "shell.execute_reply.started": "2021-06-01T11:14:56.835283Z"
    },
    "papermill": {
     "duration": 0.399995,
     "end_time": "2021-06-01T11:36:59.466883",
     "exception": false,
     "start_time": "2021-06-01T11:36:59.066888",
     "status": "completed"
    },
    "tags": []
   },
   "outputs": [
    {
     "data": {
      "text/plain": [
       "<AxesSubplot:>"
      ]
     },
     "execution_count": 18,
     "metadata": {},
     "output_type": "execute_result"
    },
    {
     "data": {
      "image/png": "[encoded data removed]",
      "text/plain": [
       "<Figure size 720x720 with 1 Axes>"
      ]
     },
     "metadata": {
      "needs_background": "light"
     },
     "output_type": "display_data"
    }
   ],
   "source": [
    "'''Выводим самые важные признаки для модели'''\n",
    "\n",
    "import matplotlib.pyplot as plt\n",
    "plt.rcParams['figure.figsize'] = (10,10)\n",
    "feat_importances = pd.Series(model.feature_importances_, index=X.columns)\n",
    "feat_importances.nlargest(20).plot(kind='barh')"
   ]
  },
  {
   "cell_type": "markdown",
   "id": "challenging-wrapping",
   "metadata": {
    "papermill": {
     "duration": 0.03317,
     "end_time": "2021-06-01T11:36:59.533674",
     "exception": false,
     "start_time": "2021-06-01T11:36:59.500504",
     "status": "completed"
    },
    "tags": []
   },
   "source": [
    "# CV"
   ]
  },
  {
   "cell_type": "code",
   "execution_count": 19,
   "id": "covered-gardening",
   "metadata": {
    "execution": {
     "iopub.execute_input": "2021-06-01T11:36:59.607997Z",
     "iopub.status.busy": "2021-06-01T11:36:59.606881Z",
     "iopub.status.idle": "2021-06-01T11:36:59.610107Z",
     "shell.execute_reply": "2021-06-01T11:36:59.610706Z",
     "shell.execute_reply.started": "2021-06-01T11:14:57.151229Z"
    },
    "papermill": {
     "duration": 0.043247,
     "end_time": "2021-06-01T11:36:59.610905",
     "exception": false,
     "start_time": "2021-06-01T11:36:59.567658",
     "status": "completed"
    },
    "tags": []
   },
   "outputs": [
    {
     "data": {
      "text/plain": [
       "'Кроссвалидация не дала большей точности на ЛБ, а наоборот ухудшила результат до 23%.\\n        Привожу код, но в финальной модели использовать не буду'"
      ]
     },
     "execution_count": 19,
     "metadata": {},
     "output_type": "execute_result"
    }
   ],
   "source": [
    "'''Кроссвалидация не дала большей точности на ЛБ, а наоборот ухудшила результат до 23%.\n",
    "        Привожу код, но в финальной модели использовать не буду'''\n",
    "\n",
    "# def cat_model(y_train, X_train, X_test, y_test):\n",
    "#     model = CatBoostRegressor(iterations = ITERATIONS,\n",
    "#                               learning_rate = LR,\n",
    "#                               eval_metric='MAPE',\n",
    "#                               random_seed = RANDOM_SEED,)\n",
    "#     model.fit(X_train, y_train,\n",
    "#               #cat_features=cat_features_ids,\n",
    "#               eval_set=(X_test, y_test),\n",
    "#               verbose=False,\n",
    "#               use_best_model=True,\n",
    "#               plot=False)\n",
    "    \n",
    "#     return(model)"
   ]
  },
  {
   "cell_type": "code",
   "execution_count": 20,
   "id": "ready-desktop",
   "metadata": {
    "execution": {
     "iopub.execute_input": "2021-06-01T11:36:59.685004Z",
     "iopub.status.busy": "2021-06-01T11:36:59.684093Z",
     "iopub.status.idle": "2021-06-01T11:36:59.688397Z",
     "shell.execute_reply": "2021-06-01T11:36:59.687885Z",
     "shell.execute_reply.started": "2021-06-01T11:14:57.158797Z"
    },
    "papermill": {
     "duration": 0.043539,
     "end_time": "2021-06-01T11:36:59.688537",
     "exception": false,
     "start_time": "2021-06-01T11:36:59.644998",
     "status": "completed"
    },
    "tags": []
   },
   "outputs": [
    {
     "data": {
      "text/plain": [
       "'Предсказания по каждой модели записывается в submissions'"
      ]
     },
     "execution_count": 20,
     "metadata": {},
     "output_type": "execute_result"
    }
   ],
   "source": [
    "'''Предсказания по каждой модели записывается в submissions'''\n",
    "\n",
    "# submissions = pd.DataFrame(0,columns=[\"sub_1\"], index=sample_submission.index) \n",
    "\n",
    "# score_ls = []\n",
    "# splits = list(KFold(n_splits=N_FOLDS, shuffle=True, random_state=RANDOM_SEED).split(X, y))\n",
    "\n",
    "# for idx, (train_idx, test_idx) in tqdm(enumerate(splits), total=N_FOLDS,):\n",
    "#     # use the indexes to extract the folds in the train and validation data\n",
    "#     X_train, y_train, X_test, y_test = X.iloc[train_idx], y[train_idx], X.iloc[test_idx], y[test_idx]\n",
    "#     # model for this fold\n",
    "#     model = cat_model(y_train, X_train, X_test, y_test)\n",
    "#     # score model on test\n",
    "#     test_predict = model.predict(X_test)\n",
    "#     test_score = mape(y_test, test_predict)\n",
    "#     score_ls.append(test_score)\n",
    "#     print(f\"{idx+1} Fold Test MAPE: {mape(y_test, test_predict):0.3f}\")\n",
    "#     # submissions\n",
    "#     submissions[f'sub_{idx+1}'] = np.exp(np.exp(model.predict(Test_data)))\n",
    "#     model.save_model(f'catboost_fold_{idx+1}.model')\n",
    "    \n",
    "# print(f'Mean Score: {np.mean(score_ls):0.3f}')\n",
    "# print(f'Std Score: {np.std(score_ls):0.4f}')\n",
    "# print(f'Max Score: {np.max(score_ls):0.3f}')\n",
    "# print(f'Min Score: {np.min(score_ls):0.3f}')"
   ]
  },
  {
   "cell_type": "markdown",
   "id": "toxic-management",
   "metadata": {
    "papermill": {
     "duration": 0.033723,
     "end_time": "2021-06-01T11:36:59.756305",
     "exception": false,
     "start_time": "2021-06-01T11:36:59.722582",
     "status": "completed"
    },
    "tags": []
   },
   "source": [
    "## ExtraTreeRegressor"
   ]
  },
  {
   "cell_type": "code",
   "execution_count": 21,
   "id": "upset-economics",
   "metadata": {
    "execution": {
     "iopub.execute_input": "2021-06-01T11:36:59.865142Z",
     "iopub.status.busy": "2021-06-01T11:36:59.859943Z",
     "iopub.status.idle": "2021-06-01T11:43:19.373267Z",
     "shell.execute_reply": "2021-06-01T11:43:19.373781Z",
     "shell.execute_reply.started": "2021-06-01T11:14:57.17082Z"
    },
    "papermill": {
     "duration": 379.583644,
     "end_time": "2021-06-01T11:43:19.373972",
     "exception": false,
     "start_time": "2021-06-01T11:36:59.790328",
     "status": "completed"
    },
    "tags": []
   },
   "outputs": [
    {
     "name": "stderr",
     "output_type": "stream",
     "text": [
      "[Parallel(n_jobs=-1)]: Using backend ThreadingBackend with 4 concurrent workers.\n",
      "[Parallel(n_jobs=-1)]: Done  42 tasks      | elapsed:   56.1s\n",
      "[Parallel(n_jobs=-1)]: Done 192 tasks      | elapsed:  4.1min\n",
      "[Parallel(n_jobs=-1)]: Done 300 out of 300 | elapsed:  6.3min finished\n",
      "[Parallel(n_jobs=4)]: Using backend ThreadingBackend with 4 concurrent workers.\n",
      "[Parallel(n_jobs=4)]: Done  42 tasks      | elapsed:    0.1s\n",
      "[Parallel(n_jobs=4)]: Done 192 tasks      | elapsed:    0.3s\n",
      "[Parallel(n_jobs=4)]: Done 300 out of 300 | elapsed:    0.5s finished\n"
     ]
    },
    {
     "name": "stdout",
     "output_type": "stream",
     "text": [
      "Mean Absolute Percentage Error: 0.0040461783756336215\n"
     ]
    }
   ],
   "source": [
    "'''Пробую обучить другую модель для решения задачи'''\n",
    "\n",
    "rf = ExtraTreesRegressor(n_estimators=300, random_state=RANDOM_SEED, n_jobs=-1,\n",
    "                         bootstrap=True, verbose=1)\n",
    "rf.fit(X_train, y_train)\n",
    "y_pred = rf.predict(X_test)\n",
    "\n",
    "MAPE = mape(y_test, y_pred)\n",
    "print(f'Mean Absolute Percentage Error: {MAPE}')"
   ]
  },
  {
   "cell_type": "markdown",
   "id": "portuguese-dispatch",
   "metadata": {
    "papermill": {
     "duration": 0.036624,
     "end_time": "2021-06-01T11:43:19.447567",
     "exception": false,
     "start_time": "2021-06-01T11:43:19.410943",
     "status": "completed"
    },
    "tags": []
   },
   "source": [
    "## XGBRegressor"
   ]
  },
  {
   "cell_type": "code",
   "execution_count": 22,
   "id": "skilled-bullet",
   "metadata": {
    "execution": {
     "iopub.execute_input": "2021-06-01T11:43:19.536953Z",
     "iopub.status.busy": "2021-06-01T11:43:19.536292Z",
     "iopub.status.idle": "2021-06-01T11:48:36.434376Z",
     "shell.execute_reply": "2021-06-01T11:48:36.435134Z",
     "shell.execute_reply.started": "2021-06-01T11:20:49.036764Z"
    },
    "papermill": {
     "duration": 316.951709,
     "end_time": "2021-06-01T11:48:36.435404",
     "exception": false,
     "start_time": "2021-06-01T11:43:19.483695",
     "status": "completed"
    },
    "tags": []
   },
   "outputs": [
    {
     "name": "stdout",
     "output_type": "stream",
     "text": [
      "[11:43:22] WARNING: ../src/learner.cc:573: \n",
      "Parameters: { \"silent\" } might not be used.\n",
      "\n",
      "  This may not be accurate due to some parameters are only used in language bindings but\n",
      "  passed down to XGBoost core.  Or some parameters are not used but slip through this\n",
      "  verification. Please open an issue if you find above cases.\n",
      "\n",
      "\n",
      "Mean Absolute Percentage Error: 0.00432209696861962\n"
     ]
    }
   ],
   "source": [
    "'''Пробую обучить другую модель для решения задачи'''\n",
    "\n",
    "xg_reg = xgb.XGBRegressor(objective='reg:squarederror', colsample_bytree=0.5,\n",
    "                          learning_rate=0.25, max_depth=10, alpha=1,\n",
    "                          n_estimators=300, silent=1)\n",
    "xg_reg.fit(X_train, y_train)\n",
    "xg_red_pred = xg_reg.predict(X_test)\n",
    "\n",
    "MAPE = mape(y_test, xg_red_pred)\n",
    "print(f'Mean Absolute Percentage Error: {MAPE}')"
   ]
  },
  {
   "cell_type": "markdown",
   "id": "under-liquid",
   "metadata": {
    "papermill": {
     "duration": 0.038767,
     "end_time": "2021-06-01T11:48:36.512061",
     "exception": false,
     "start_time": "2021-06-01T11:48:36.473294",
     "status": "completed"
    },
    "tags": []
   },
   "source": [
    "## Stacking"
   ]
  },
  {
   "cell_type": "code",
   "execution_count": 23,
   "id": "wired-retreat",
   "metadata": {
    "execution": {
     "iopub.execute_input": "2021-06-01T11:48:36.593614Z",
     "iopub.status.busy": "2021-06-01T11:48:36.592781Z",
     "iopub.status.idle": "2021-06-01T11:48:36.596917Z",
     "shell.execute_reply": "2021-06-01T11:48:36.596316Z",
     "shell.execute_reply.started": "2021-06-01T11:25:58.022403Z"
    },
    "papermill": {
     "duration": 0.047397,
     "end_time": "2021-06-01T11:48:36.597046",
     "exception": false,
     "start_time": "2021-06-01T11:48:36.549649",
     "status": "completed"
    },
    "tags": []
   },
   "outputs": [
    {
     "data": {
      "text/plain": [
       "'Объединяем все модели в стек'"
      ]
     },
     "execution_count": 23,
     "metadata": {},
     "output_type": "execute_result"
    }
   ],
   "source": [
    "'''Объединяем все модели в стек'''\n",
    "\n",
    "# estimators = [('random_forest', rf),\n",
    "#               ('catboost', model),\n",
    "#               ('XGBoost', xg_reg)]\n",
    "\n",
    "# stack = StackingRegressor(estimators=estimators,\n",
    "#                           n_jobs=-1,\n",
    "#                           cv=3,\n",
    "#                           final_estimator=rf,\n",
    "#                           verbose=100)\n",
    "\n",
    "# stack.fit(X_train, y_train).score(X_test, y_test)\n",
    "\n",
    "\n",
    "# y_pred_stacking = stack.predict(Test_data)"
   ]
  },
  {
   "cell_type": "markdown",
   "id": "variable-tracker",
   "metadata": {
    "papermill": {
     "duration": 0.037267,
     "end_time": "2021-06-01T11:48:36.672196",
     "exception": false,
     "start_time": "2021-06-01T11:48:36.634929",
     "status": "completed"
    },
    "tags": []
   },
   "source": [
    "# Submission"
   ]
  },
  {
   "cell_type": "code",
   "execution_count": 24,
   "id": "protected-witness",
   "metadata": {
    "execution": {
     "iopub.execute_input": "2021-06-01T11:48:36.751327Z",
     "iopub.status.busy": "2021-06-01T11:48:36.750619Z",
     "iopub.status.idle": "2021-06-01T11:48:36.756362Z",
     "shell.execute_reply": "2021-06-01T11:48:36.755862Z",
     "shell.execute_reply.started": "2021-06-01T11:25:58.031344Z"
    },
    "papermill": {
     "duration": 0.046831,
     "end_time": "2021-06-01T11:48:36.756497",
     "exception": false,
     "start_time": "2021-06-01T11:48:36.709666",
     "status": "completed"
    },
    "tags": []
   },
   "outputs": [
    {
     "data": {
      "text/plain": [
       "'Записываем предсказания для загрузки в соревнование'"
      ]
     },
     "execution_count": 24,
     "metadata": {},
     "output_type": "execute_result"
    }
   ],
   "source": [
    "'''Записываем предсказания для загрузки в соревнование''' \n",
    "\n",
    "#sample_submission['price'] = np.exp(np.exp(y_pred_stacking))\n",
    "# sample_submission.to_csv(f'submission.csv', index=False)\n",
    "# sample_submission.head(10)"
   ]
  }
 ],
 "metadata": {
  "kernelspec": {
   "display_name": "Python 3",
   "language": "python",
   "name": "python3"
  },
  "language_info": {
   "codemirror_mode": {
    "name": "ipython",
    "version": 3
   },
   "file_extension": ".py",
   "mimetype": "text/x-python",
   "name": "python",
   "nbconvert_exporter": "python",
   "pygments_lexer": "ipython3",
   "version": "3.7.10"
  },
  "papermill": {
   "default_parameters": {},
   "duration": 837.209867,
   "end_time": "2021-06-01T11:48:38.550501",
   "environment_variables": {},
   "exception": null,
   "input_path": "__notebook__.ipynb",
   "output_path": "__notebook__.ipynb",
   "parameters": {},
   "start_time": "2021-06-01T11:34:41.340634",
   "version": "2.3.3"
  }
 },
 "nbformat": 4,
 "nbformat_minor": 5
}
