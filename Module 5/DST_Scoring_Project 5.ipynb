{
 "cells": [
  {
   "cell_type": "code",
   "execution_count": 1,
   "metadata": {
    "colab": {
     "base_uri": "https://localhost:8080/"
    },
    "id": "YiL46mTLHuik",
    "outputId": "e632e5bc-31d1-42b3-9287-b4a6aa653a0b"
   },
   "outputs": [
    {
     "name": "stdout",
     "output_type": "stream",
     "text": [
      "Drive already mounted at /content/drive; to attempt to forcibly remount, call drive.mount(\"/content/drive\", force_remount=True).\n"
     ]
    }
   ],
   "source": [
    "from google.colab import drive\n",
    "drive.mount('/content/drive')"
   ]
  },
  {
   "cell_type": "code",
   "execution_count": 2,
   "metadata": {
    "id": "VaWqZBAOH6f5"
   },
   "outputs": [],
   "source": [
    "import os\n",
    "os.chdir(\"/content/drive/My Drive/Colab Notebooks/DST_Scoring\")"
   ]
  },
  {
   "cell_type": "code",
   "execution_count": null,
   "metadata": {
    "id": "5mLWNu7y8dES"
   },
   "outputs": [],
   "source": [
    "pip install -U pandas-profiling"
   ]
  },
  {
   "cell_type": "code",
   "execution_count": 39,
   "metadata": {
    "id": "NOZR4cLOIYkA"
   },
   "outputs": [],
   "source": [
    "from pandas import Series\n",
    "import pandas as pd\n",
    "import numpy as np\n",
    "import pandas_profiling\n",
    "import matplotlib.pyplot as plt\n",
    "import seaborn as sns\n",
    "import warnings\n",
    "import statsmodels.api as sm\n",
    "warnings.simplefilter('ignore')\n",
    "\n",
    "from sklearn.feature_selection import f_classif, mutual_info_classif\n",
    "from sklearn.preprocessing import LabelEncoder, OneHotEncoder, StandardScaler\n",
    "from sklearn.model_selection import train_test_split\n",
    "from sklearn.model_selection import GridSearchCV\n",
    "from sklearn.linear_model import LogisticRegression\n",
    "from sklearn.metrics import confusion_matrix\n",
    "from sklearn.metrics import auc, roc_auc_score, roc_curve\n",
    "from sklearn.metrics import accuracy_score, precision_score, recall_score, f1_score\n",
    "from sklearn.metrics import classification_report\n",
    "\n",
    "\n",
    "RANDOM_SEED = 42"
   ]
  },
  {
   "cell_type": "code",
   "execution_count": 118,
   "metadata": {
    "id": "a5UXiCh_Iaya"
   },
   "outputs": [],
   "source": [
    "data_train=pd.read_csv('train.csv')\n",
    "data_test=pd.read_csv('test.csv')"
   ]
  },
  {
   "cell_type": "code",
   "execution_count": 119,
   "metadata": {
    "id": "ToCrl_IDK2xL"
   },
   "outputs": [],
   "source": [
    "#размечаем выборку\n",
    "data_train['Train'] = 1 \n",
    "data_test['Train'] = 0 \n",
    "df_def1=df[df['Train']==1]\n",
    "df_def0=df[df['Train']==0]"
   ]
  },
  {
   "cell_type": "code",
   "execution_count": 120,
   "metadata": {
    "id": "oGqGuUgZK3pN"
   },
   "outputs": [],
   "source": [
    "#объединяем данные\n",
    "df = data_train.append(data_test, sort=False).reset_index(drop=True)"
   ]
  },
  {
   "cell_type": "code",
   "execution_count": null,
   "metadata": {
    "id": "Y-e6X1-67lS9"
   },
   "outputs": [],
   "source": [
    "#распределения признаков и корреляции\n",
    "#распределения части признаков выглядят смещёнными\n",
    "#сильной корреляции не наблюдается ни для одного из признаков, а значит, они подходят для анализа\n",
    "#пропуски есть только в столбце education\n",
    "df[df['Train']==1].profile_report()"
   ]
  },
  {
   "cell_type": "code",
   "execution_count": 121,
   "metadata": {
    "id": "CZ8h97QyDJXL"
   },
   "outputs": [],
   "source": [
    "#преобразуем столбец дат\n",
    "df['app_date'] =  pd.to_datetime(df['app_date'])"
   ]
  },
  {
   "cell_type": "code",
   "execution_count": 122,
   "metadata": {
    "colab": {
     "base_uri": "https://localhost:8080/"
    },
    "id": "PEe1MWtOIVQM",
    "outputId": "32e7f059-d30a-49be-bfbf-ca6f35829182"
   },
   "outputs": [
    {
     "data": {
      "text/plain": [
       "2014    110148\n",
       "Name: app_date, dtype: int64"
      ]
     },
     "execution_count": 122,
     "metadata": {
      "tags": []
     },
     "output_type": "execute_result"
    }
   ],
   "source": [
    "#все данные за один год, так что значение года не нужно\n",
    "df['app_date'].dt.year.value_counts()"
   ]
  },
  {
   "cell_type": "code",
   "execution_count": 123,
   "metadata": {
    "colab": {
     "base_uri": "https://localhost:8080/",
     "height": 296
    },
    "id": "thUqWaSSJYj9",
    "outputId": "79e665f8-dbde-4634-adf4-859a27e48251"
   },
   "outputs": [
    {
     "data": {
      "text/plain": [
       "<matplotlib.axes._subplots.AxesSubplot at 0x7f277fb9db70>"
      ]
     },
     "execution_count": 123,
     "metadata": {
      "tags": []
     },
     "output_type": "execute_result"
    },
    {
     "data": {
      "image/png": "[encoded data removed]",
      "text/plain": [
       "<Figure size 432x288 with 1 Axes>"
      ]
     },
     "metadata": {
      "tags": []
     },
     "output_type": "display_data"
    }
   ],
   "source": [
    "#в выборке представлены данные за 4 месяца, причём значения deafult больше всего отличаются в последнем месяце\n",
    "sns.barplot(data=df_def1, x=df_def1['month'], y='default')"
   ]
  },
  {
   "cell_type": "code",
   "execution_count": 124,
   "metadata": {
    "id": "OAmbcVC_Ewst"
   },
   "outputs": [],
   "source": [
    "#создадим отдельные столбцы для дня и месяца\n",
    "df['month'] = df['app_date'].dt.month\n",
    "df['day'] = df['app_date'].dt.day\n",
    "df.drop('app_date',axis=1,inplace=True)"
   ]
  },
  {
   "cell_type": "code",
   "execution_count": 125,
   "metadata": {
    "id": "94CjRVMaLe3s"
   },
   "outputs": [],
   "source": [
    "#создадим группы для признаков одного типа\n",
    "num_cols=['income','bki_request_cnt','age','decline_app_cnt','region_rating','score_bki','day']\n",
    "bin_cols=['sex','car','car_type','good_work','foreign_passport']\n",
    "cat_cols=['education','work_address','home_address','sna','first_time','month']"
   ]
  },
  {
   "cell_type": "code",
   "execution_count": 126,
   "metadata": {
    "id": "KjUnb9UZOJrS"
   },
   "outputs": [],
   "source": [
    "#заполним пропуски в столбце education самым частым значением (исходя из данных profile report)\n",
    "df.education.fillna('SCH',inplace=True)"
   ]
  },
  {
   "cell_type": "code",
   "execution_count": 127,
   "metadata": {
    "id": "K3z-QoFtQeC3"
   },
   "outputs": [],
   "source": [
    "#кодируем категориальные и бинарные признаки\n",
    "label_encoder = LabelEncoder()\n",
    "\n",
    "for column in bin_cols:\n",
    "    df[column] = label_encoder.fit_transform(df[column])\n",
    "\n",
    "for column in cat_cols:\n",
    "    df[column] = label_encoder.fit_transform(df[column])"
   ]
  },
  {
   "cell_type": "code",
   "execution_count": 128,
   "metadata": {
    "colab": {
     "base_uri": "https://localhost:8080/",
     "height": 282
    },
    "id": "4p7oU43_yNYn",
    "outputId": "344d4749-dccc-4172-e28f-1190c084a8fd"
   },
   "outputs": [
    {
     "data": {
      "text/plain": [
       "<matplotlib.axes._subplots.AxesSubplot at 0x7f277fa3c748>"
      ]
     },
     "execution_count": 128,
     "metadata": {
      "tags": []
     },
     "output_type": "execute_result"
    },
    {
     "data": {
      "image/png": "[encoded data removed]",
      "text/plain": [
       "<Figure size 432x288 with 1 Axes>"
      ]
     },
     "metadata": {
      "tags": []
     },
     "output_type": "display_data"
    }
   ],
   "source": [
    "# оценим значимость бинарных  и категориальных признаков\n",
    "# наибольший вклад у sna и first_time\n",
    "imp_cat = Series(mutual_info_classif(df_def1[bin_cols + cat_cols], df_def1['default'],\n",
    "                                     discrete_features=True), index=bin_cols + cat_cols)\n",
    "imp_cat.sort_values(inplace=True)\n",
    "imp_cat.plot(kind='barh')"
   ]
  },
  {
   "cell_type": "code",
   "execution_count": 129,
   "metadata": {
    "colab": {
     "base_uri": "https://localhost:8080/",
     "height": 282
    },
    "id": "SVOXyJ6WT9u9",
    "outputId": "0a7829e8-b0c0-4634-f21b-a2e794aeb2f0"
   },
   "outputs": [
    {
     "data": {
      "text/plain": [
       "<matplotlib.axes._subplots.AxesSubplot at 0x7f277fa2fc18>"
      ]
     },
     "execution_count": 129,
     "metadata": {
      "tags": []
     },
     "output_type": "execute_result"
    },
    {
     "data": {
      "image/png": "[encoded data removed]",
      "text/plain": [
       "<Figure size 432x288 with 1 Axes>"
      ]
     },
     "metadata": {
      "tags": []
     },
     "output_type": "display_data"
    }
   ],
   "source": [
    "#оценим значимость числовых переменных\n",
    "#по-видимому, действительно большую роль играет только score_bki\n",
    "imp_cat2 = Series(mutual_info_classif(df_def1[num_cols], df_def1['default'],\n",
    "                                     discrete_features =True), index = num_cols)\n",
    "imp_cat2.sort_values(inplace = True)\n",
    "imp_cat2.plot(kind = 'barh')"
   ]
  },
  {
   "cell_type": "code",
   "execution_count": 130,
   "metadata": {
    "id": "1fBmtB7syZuX"
   },
   "outputs": [],
   "source": [
    "#создаем dummies переменные и стандартизируем числовые признаки\n",
    "df=pd.get_dummies(df, prefix=cat_cols, columns=cat_cols)\n",
    "df[num_cols] = StandardScaler().fit_transform(df[num_cols])"
   ]
  },
  {
   "cell_type": "code",
   "execution_count": null,
   "metadata": {
    "id": "N0cfrm6wfAuL"
   },
   "outputs": [],
   "source": [
    "display(df.head(10))"
   ]
  },
  {
   "cell_type": "markdown",
   "metadata": {
    "id": "fhFLyaibL1v-"
   },
   "source": [
    "Размечаем выборку для первого варианта модели и обучаем"
   ]
  },
  {
   "cell_type": "code",
   "execution_count": 132,
   "metadata": {
    "id": "-mGqpEtM43lr"
   },
   "outputs": [],
   "source": [
    "train_data = df.query('Train == 1').drop(['Train', 'client_id'], axis=1)\n",
    "test_data = df.query('Train == 0').drop(['Train', 'client_id'], axis=1)\n",
    "\n",
    "y = train_data.default.values \n",
    "X = train_data.drop(['default'], axis=1)"
   ]
  },
  {
   "cell_type": "code",
   "execution_count": 133,
   "metadata": {
    "id": "5sByi1Z75BaC"
   },
   "outputs": [],
   "source": [
    "X_train, X_test, y_train, y_test = train_test_split(\n",
    "    X, y, test_size=0.2, random_state=RANDOM_SEED)"
   ]
  },
  {
   "cell_type": "code",
   "execution_count": 134,
   "metadata": {
    "id": "ZM2shh855PRy"
   },
   "outputs": [],
   "source": [
    "model = LogisticRegression(random_state=RANDOM_SEED)\n",
    "model.fit(X_train, y_train)\n",
    "\n",
    "y_pred_prob = model.predict_proba(X_test)[:, 1]\n",
    "y_pred = model.predict(X_test)"
   ]
  },
  {
   "cell_type": "code",
   "execution_count": 135,
   "metadata": {
    "colab": {
     "base_uri": "https://localhost:8080/"
    },
    "id": "nEmbBNRY9A7T",
    "outputId": "0580653b-9db9-4642-b81b-5156fa864f4a"
   },
   "outputs": [
    {
     "name": "stdout",
     "output_type": "stream",
     "text": [
      "Модель 1: Accuracy(доля правильных ответов): 0.8742 Precision(доля объектов ТР): 0.3661 Recall(доля P из всех найденных Р): 0.0224 F1(среднее гармоническое precision и recall): 0.0423\n"
     ]
    }
   ],
   "source": [
    "# очень низкие значения F1 и высокие Accuracy, снова говорят нам о неравномерности выборки\n",
    "print(\"Модель 1:\", 'Accuracy(доля правильных ответов): %.4f' % accuracy_score(y_test, y_pred),\n",
    "      'Precision(доля объектов ТР): %.4f' % precision_score(y_test, y_pred),\n",
    "      'Recall(доля P из всех найденных Р): %.4f' % recall_score(y_test, y_pred),\n",
    "      'F1(среднее гармоническое precision и recall): %.4f' % f1_score(y_test, y_pred))"
   ]
  },
  {
   "cell_type": "code",
   "execution_count": 136,
   "metadata": {
    "colab": {
     "base_uri": "https://localhost:8080/",
     "height": 279
    },
    "id": "56kpC5Rup3DT",
    "outputId": "9f211a60-561a-4c7b-cdfd-25803917b515"
   },
   "outputs": [
    {
     "data": {
      "image/png": "[encoded data removed]",
      "text/plain": [
       "<Figure size 432x288 with 2 Axes>"
      ]
     },
     "metadata": {
      "tags": []
     },
     "output_type": "display_data"
    }
   ],
   "source": [
    "#такое смещение заметно и по матрице ошибок\n",
    "confusion_matrix = pd.crosstab(y_test, y_pred, rownames=['True'], colnames=['Predicted'])\n",
    "\n",
    "sns.heatmap(confusion_matrix,fmt='d', annot=True,cmap='Blues')\n",
    "plt.show()"
   ]
  },
  {
   "cell_type": "code",
   "execution_count": 137,
   "metadata": {
    "colab": {
     "base_uri": "https://localhost:8080/",
     "height": 295
    },
    "id": "P0khbW6mlYSs",
    "outputId": "d7522973-255c-4d98-dcb7-fec2e68084b7"
   },
   "outputs": [
    {
     "data": {
      "image/png": "[encoded data removed]",
      "text/plain": [
       "<Figure size 432x288 with 1 Axes>"
      ]
     },
     "metadata": {
      "tags": []
     },
     "output_type": "display_data"
    }
   ],
   "source": [
    "#несмотря на явные проблемы с выборкой, показатель ROC AUC достаточно высокий\n",
    "fpr, tpr, threshold = roc_curve(y_test, y_pred_prob)\n",
    "roc_auc = roc_auc_score(y_test, y_pred_prob)\n",
    "\n",
    "plt.figure()\n",
    "plt.plot([0, 1], label='Baseline', linestyle='--')\n",
    "plt.plot(fpr, tpr, label = 'Regression')\n",
    "plt.title('Logistic Regression ROC AUC = %0.3f' % roc_auc)\n",
    "plt.ylabel('True Positive Rate')\n",
    "plt.xlabel('False Positive Rate')\n",
    "plt.legend(loc = 'lower right')\n",
    "plt.show()"
   ]
  },
  {
   "cell_type": "markdown",
   "metadata": {
    "id": "7Jklw2_oNCEB"
   },
   "source": [
    "Подбор гиперпараметров для новой модели"
   ]
  },
  {
   "cell_type": "code",
   "execution_count": 138,
   "metadata": {
    "colab": {
     "base_uri": "https://localhost:8080/"
    },
    "id": "QyH7xJJhwtUw",
    "outputId": "d8772b17-dc5f-4f97-d53b-bc33b8a6bc2e"
   },
   "outputs": [
    {
     "name": "stdout",
     "output_type": "stream",
     "text": [
      "Лучшее Penalty: l2\n",
      "Лучшее C: 1.0\n",
      "Accuracy: 0.8742\n",
      "Precision: 0.3661\n",
      "Recall: 0.0224\n",
      "F1: 0.0423\n"
     ]
    }
   ],
   "source": [
    "# Добавим типы регуляризации\n",
    "penalty = ['l1', 'l2']\n",
    "\n",
    "# Зададим ограничения для параметра регуляризации\n",
    "C = np.logspace(0, 5, 10)\n",
    "\n",
    "# Создадим гиперпараметры\n",
    "hyperparameters = dict(C=C, penalty=penalty)\n",
    "\n",
    "model = LogisticRegression()\n",
    "model.fit(X_train, y_train)\n",
    "\n",
    "# Создаем сетку поиска с использованием 10-кратной перекрестной проверки\n",
    "clf = GridSearchCV(model, hyperparameters, cv=10, verbose=0)\n",
    "\n",
    "best_model = clf.fit(X_train, y_train)\n",
    "\n",
    "#Лучшие гиперпараметры\n",
    "print('Лучшее Penalty:', best_model.best_estimator_.get_params()['penalty'])\n",
    "print('Лучшее C:', best_model.best_estimator_.get_params()['C'])\n",
    "#метрики\n",
    "preds = model.predict(X_test)\n",
    "print('Accuracy: %.4f' % accuracy_score(y_test, preds))\n",
    "print('Precision: %.4f' % precision_score(y_test, preds))\n",
    "print('Recall: %.4f' % recall_score(y_test, preds))\n",
    "print('F1: %.4f' % f1_score(y_test, preds))"
   ]
  },
  {
   "cell_type": "code",
   "execution_count": 139,
   "metadata": {
    "id": "f0Utejfg1A8f"
   },
   "outputs": [],
   "source": [
    "#обучим модель с новыми параметрами\n",
    "model = LogisticRegression(random_state=RANDOM_SEED, \n",
    "                           C=1, \n",
    "                           class_weight= 'balanced', \n",
    "                           dual= False, \n",
    "                           fit_intercept= True,\n",
    "                           penalty= 'l2', \n",
    "                           solver = 'sag')\n",
    "\n",
    "\n",
    "model.fit(X_train, y_train)\n",
    "\n",
    "y_pred_prob2 = model.predict_proba(X_test)[:,1]\n",
    "y_pred2 = model.predict(X_test)"
   ]
  },
  {
   "cell_type": "code",
   "execution_count": 140,
   "metadata": {
    "colab": {
     "base_uri": "https://localhost:8080/"
    },
    "id": "T4-L3o5QQ1-e",
    "outputId": "1a678b73-dbb3-452e-939c-c553628d769a"
   },
   "outputs": [
    {
     "name": "stdout",
     "output_type": "stream",
     "text": [
      "Модель 1: Accuracy(доля правильных ответов): 0.8742 Precision(доля объектов ТР): 0.3661 Recall(доля P из всех найденных Р): 0.0224 F1(среднее гармоническое precision и recall): 0.0423\n",
      "Модель 2: Accuracy(доля правильных ответов): 0.6730 Precision(доля объектов ТР): 0.2261 Recall(доля P из всех найденных Р): 0.6776 F1(среднее гармоническое precision и recall): 0.3391\n"
     ]
    }
   ],
   "source": [
    "# сравним модели\n",
    "# несмотря на падение в Accuracy мы получили значительный прирост параметра F1\n",
    "print(\"Модель 1:\", 'Accuracy(доля правильных ответов): %.4f' % accuracy_score(y_test, y_pred),\n",
    "      'Precision(доля объектов ТР): %.4f' % precision_score(y_test, y_pred),\n",
    "      'Recall(доля P из всех найденных Р): %.4f' % recall_score(y_test, y_pred),\n",
    "      'F1(среднее гармоническое precision и recall): %.4f' % f1_score(y_test, y_pred))\n",
    "print(\"Модель 2:\", 'Accuracy(доля правильных ответов): %.4f' % accuracy_score(y_test, y_pred2),\n",
    "      'Precision(доля объектов ТР): %.4f' % precision_score(y_test, y_pred2),\n",
    "      'Recall(доля P из всех найденных Р): %.4f' % recall_score(y_test, y_pred2),\n",
    "      'F1(среднее гармоническое precision и recall): %.4f' % f1_score(y_test, y_pred2))"
   ]
  },
  {
   "cell_type": "code",
   "execution_count": 141,
   "metadata": {
    "colab": {
     "base_uri": "https://localhost:8080/",
     "height": 279
    },
    "id": "i6K1RCkS4JbI",
    "outputId": "536f8ccd-ee80-4f83-de68-85fc3d221ced"
   },
   "outputs": [
    {
     "data": {
      "image/png": "[encoded data removed]",
      "text/plain": [
       "<Figure size 432x288 with 2 Axes>"
      ]
     },
     "metadata": {
      "tags": []
     },
     "output_type": "display_data"
    }
   ],
   "source": [
    "#повышение качества модели заметно и на матрице ошибок: точность определения упала, но выросла доля True Positive оценок\n",
    "confusion_matrix2 = pd.crosstab(y_test, y_pred2, rownames=['True'], colnames=['Predicted'])\n",
    "\n",
    "sns.heatmap(confusion_matrix2,fmt='d', annot=True,cmap='Blues')\n",
    "plt.show()"
   ]
  },
  {
   "cell_type": "code",
   "execution_count": 143,
   "metadata": {
    "colab": {
     "base_uri": "https://localhost:8080/",
     "height": 295
    },
    "id": "Gq6Teps54tmg",
    "outputId": "b6bf70b8-7a32-447d-bc02-09b2d907c465"
   },
   "outputs": [
    {
     "data": {
      "image/png": "[encoded data removed]",
      "text/plain": [
       "<Figure size 432x288 with 1 Axes>"
      ]
     },
     "metadata": {
      "tags": []
     },
     "output_type": "display_data"
    }
   ],
   "source": [
    "#показатель ROC AUC сохранился на прежнем уровне\n",
    "fpr, tpr, threshold = roc_curve(y_test, y_pred_prob2)\n",
    "roc_auc = roc_auc_score(y_test, y_pred_prob2)\n",
    "\n",
    "plt.figure()\n",
    "plt.plot([0, 1], label='Baseline', linestyle='--')\n",
    "plt.plot(fpr, tpr, label = 'Regression')\n",
    "plt.title('Logistic Regression ROC AUC = %0.3f' % roc_auc)\n",
    "plt.ylabel('True Positive Rate')\n",
    "plt.xlabel('False Positive Rate')\n",
    "plt.legend(loc = 'lower right')\n",
    "plt.show()"
   ]
  },
  {
   "cell_type": "code",
   "execution_count": 145,
   "metadata": {
    "colab": {
     "base_uri": "https://localhost:8080/",
     "height": 1000
    },
    "id": "YAqzlG2E20io",
    "outputId": "77d6eb69-b889-47f1-8ab5-78bc6201700a"
   },
   "outputs": [
    {
     "data": {
      "text/html": [
       "<div>\n",
       "<style scoped>\n",
       "    .dataframe tbody tr th:only-of-type {\n",
       "        vertical-align: middle;\n",
       "    }\n",
       "\n",
       "    .dataframe tbody tr th {\n",
       "        vertical-align: top;\n",
       "    }\n",
       "\n",
       "    .dataframe thead th {\n",
       "        text-align: right;\n",
       "    }\n",
       "</style>\n",
       "<table border=\"1\" class=\"dataframe\">\n",
       "  <thead>\n",
       "    <tr style=\"text-align: right;\">\n",
       "      <th></th>\n",
       "      <th>coef</th>\n",
       "    </tr>\n",
       "  </thead>\n",
       "  <tbody>\n",
       "    <tr>\n",
       "      <th>score_bki</th>\n",
       "      <td>0.486973</td>\n",
       "    </tr>\n",
       "    <tr>\n",
       "      <th>home_address_1</th>\n",
       "      <td>0.399716</td>\n",
       "    </tr>\n",
       "    <tr>\n",
       "      <th>sex</th>\n",
       "      <td>0.280200</td>\n",
       "    </tr>\n",
       "    <tr>\n",
       "      <th>bki_request_cnt</th>\n",
       "      <td>0.172219</td>\n",
       "    </tr>\n",
       "    <tr>\n",
       "      <th>sna_3</th>\n",
       "      <td>0.166700</td>\n",
       "    </tr>\n",
       "    <tr>\n",
       "      <th>education_3</th>\n",
       "      <td>0.161929</td>\n",
       "    </tr>\n",
       "    <tr>\n",
       "      <th>decline_app_cnt</th>\n",
       "      <td>0.132278</td>\n",
       "    </tr>\n",
       "    <tr>\n",
       "      <th>first_time_1</th>\n",
       "      <td>0.077835</td>\n",
       "    </tr>\n",
       "    <tr>\n",
       "      <th>month_0</th>\n",
       "      <td>0.072134</td>\n",
       "    </tr>\n",
       "    <tr>\n",
       "      <th>education_4</th>\n",
       "      <td>0.010020</td>\n",
       "    </tr>\n",
       "    <tr>\n",
       "      <th>work_address_2</th>\n",
       "      <td>0.009432</td>\n",
       "    </tr>\n",
       "    <tr>\n",
       "      <th>income</th>\n",
       "      <td>0.004975</td>\n",
       "    </tr>\n",
       "    <tr>\n",
       "      <th>first_time_0</th>\n",
       "      <td>0.000000</td>\n",
       "    </tr>\n",
       "    <tr>\n",
       "      <th>month_1</th>\n",
       "      <td>0.000000</td>\n",
       "    </tr>\n",
       "    <tr>\n",
       "      <th>sna_1</th>\n",
       "      <td>0.000000</td>\n",
       "    </tr>\n",
       "    <tr>\n",
       "      <th>car</th>\n",
       "      <td>-0.012588</td>\n",
       "    </tr>\n",
       "    <tr>\n",
       "      <th>day</th>\n",
       "      <td>-0.026940</td>\n",
       "    </tr>\n",
       "    <tr>\n",
       "      <th>month_2</th>\n",
       "      <td>-0.034955</td>\n",
       "    </tr>\n",
       "    <tr>\n",
       "      <th>home_address_2</th>\n",
       "      <td>-0.037992</td>\n",
       "    </tr>\n",
       "    <tr>\n",
       "      <th>age</th>\n",
       "      <td>-0.041319</td>\n",
       "    </tr>\n",
       "    <tr>\n",
       "      <th>sna_2</th>\n",
       "      <td>-0.063874</td>\n",
       "    </tr>\n",
       "    <tr>\n",
       "      <th>work_address_1</th>\n",
       "      <td>-0.100819</td>\n",
       "    </tr>\n",
       "    <tr>\n",
       "      <th>first_time_2</th>\n",
       "      <td>-0.103118</td>\n",
       "    </tr>\n",
       "    <tr>\n",
       "      <th>home_address_0</th>\n",
       "      <td>-0.142844</td>\n",
       "    </tr>\n",
       "    <tr>\n",
       "      <th>good_work</th>\n",
       "      <td>-0.205078</td>\n",
       "    </tr>\n",
       "    <tr>\n",
       "      <th>foreign_passport</th>\n",
       "      <td>-0.245419</td>\n",
       "    </tr>\n",
       "    <tr>\n",
       "      <th>education_1</th>\n",
       "      <td>-0.257138</td>\n",
       "    </tr>\n",
       "    <tr>\n",
       "      <th>first_time_3</th>\n",
       "      <td>-0.282006</td>\n",
       "    </tr>\n",
       "    <tr>\n",
       "      <th>car_type</th>\n",
       "      <td>-0.299688</td>\n",
       "    </tr>\n",
       "    <tr>\n",
       "      <th>sna_0</th>\n",
       "      <td>-0.307294</td>\n",
       "    </tr>\n",
       "    <tr>\n",
       "      <th>region_rating</th>\n",
       "      <td>-0.352043</td>\n",
       "    </tr>\n",
       "    <tr>\n",
       "      <th>month_3</th>\n",
       "      <td>-0.359205</td>\n",
       "    </tr>\n",
       "    <tr>\n",
       "      <th>work_address_0</th>\n",
       "      <td>-0.407073</td>\n",
       "    </tr>\n",
       "    <tr>\n",
       "      <th>education_2</th>\n",
       "      <td>-0.517139</td>\n",
       "    </tr>\n",
       "    <tr>\n",
       "      <th>education_0</th>\n",
       "      <td>-0.791624</td>\n",
       "    </tr>\n",
       "  </tbody>\n",
       "</table>\n",
       "</div>"
      ],
      "text/plain": [
       "                      coef\n",
       "score_bki         0.486973\n",
       "home_address_1    0.399716\n",
       "sex               0.280200\n",
       "bki_request_cnt   0.172219\n",
       "sna_3             0.166700\n",
       "education_3       0.161929\n",
       "decline_app_cnt   0.132278\n",
       "first_time_1      0.077835\n",
       "month_0           0.072134\n",
       "education_4       0.010020\n",
       "work_address_2    0.009432\n",
       "income            0.004975\n",
       "first_time_0      0.000000\n",
       "month_1           0.000000\n",
       "sna_1             0.000000\n",
       "car              -0.012588\n",
       "day              -0.026940\n",
       "month_2          -0.034955\n",
       "home_address_2   -0.037992\n",
       "age              -0.041319\n",
       "sna_2            -0.063874\n",
       "work_address_1   -0.100819\n",
       "first_time_2     -0.103118\n",
       "home_address_0   -0.142844\n",
       "good_work        -0.205078\n",
       "foreign_passport -0.245419\n",
       "education_1      -0.257138\n",
       "first_time_3     -0.282006\n",
       "car_type         -0.299688\n",
       "sna_0            -0.307294\n",
       "region_rating    -0.352043\n",
       "month_3          -0.359205\n",
       "work_address_0   -0.407073\n",
       "education_2      -0.517139\n",
       "education_0      -0.791624"
      ]
     },
     "execution_count": 145,
     "metadata": {
      "tags": []
     },
     "output_type": "execute_result"
    }
   ],
   "source": [
    "#используем обучение модели с penalty l1, чтобы оценить важность каждого из признаков для модели\n",
    "model = LogisticRegression(random_state=RANDOM_SEED, \n",
    "                           C=1, \n",
    "                           class_weight= 'balanced', \n",
    "                           dual= False, \n",
    "                           fit_intercept= True,\n",
    "                           penalty= 'l1', \n",
    "                           solver = 'liblinear')\n",
    "\n",
    "\n",
    "model.fit(X_train, y_train)\n",
    "\n",
    "y_pred_prob2 = model.predict_proba(X_test)[:,1]\n",
    "y_pred2 = model.predict(X_test)\n",
    "\n",
    "log_odds = model.coef_[0]\n",
    "pd.DataFrame(log_odds, \n",
    "             X.columns, \n",
    "             columns=['coef'])\\\n",
    "            .sort_values(by='coef', ascending=False)"
   ]
  },
  {
   "cell_type": "code",
   "execution_count": 146,
   "metadata": {
    "id": "L-R7JbFj4m6j"
   },
   "outputs": [],
   "source": [
    "#список признаков, не оказывающих влияния на модель\n",
    "drop_cols = ['month_1', 'first_time_0', 'sna_1']"
   ]
  },
  {
   "cell_type": "code",
   "execution_count": 147,
   "metadata": {
    "id": "bHuzxJL74jZj"
   },
   "outputs": [],
   "source": [
    "#заново формируем выборки для обучения без этих признаков\n",
    "train_data = df.query('Train == 1').drop(['Train', 'client_id']+drop_cols, axis=1)\n",
    "test_data = df.query('Train == 0').drop(['Train', 'client_id']+drop_cols, axis=1)\n",
    "\n",
    "y = train_data.default.values            \n",
    "X = train_data.drop(['default'], axis=1)\n",
    "\n",
    "X_train, X_test, y_train, y_test = train_test_split(X, y, test_size=0.2, random_state=RANDOM_SEED)"
   ]
  },
  {
   "cell_type": "code",
   "execution_count": 148,
   "metadata": {
    "id": "xtAdU6g05P7X"
   },
   "outputs": [],
   "source": [
    "#третий вариант модели\n",
    "model = LogisticRegression(random_state=RANDOM_SEED, \n",
    "                           C=1, \n",
    "                           class_weight= 'balanced', \n",
    "                           dual= False, \n",
    "                           fit_intercept= True,\n",
    "                           penalty= 'l2', \n",
    "                           solver = 'sag')\n",
    "\n",
    "\n",
    "model.fit(X_train, y_train)\n",
    "\n",
    "y_pred_prob3 = model.predict_proba(X_test)[:,1]\n",
    "y_pred3 = model.predict(X_test)"
   ]
  },
  {
   "cell_type": "code",
   "execution_count": 150,
   "metadata": {
    "colab": {
     "base_uri": "https://localhost:8080/"
    },
    "id": "LUDpoR-K5b8v",
    "outputId": "223ac59d-4464-43b5-99b1-67baeb7f61e6"
   },
   "outputs": [
    {
     "name": "stdout",
     "output_type": "stream",
     "text": [
      "Модель 1: Accuracy(доля правильных ответов): 0.8742 Precision(доля объектов ТР): 0.3661 Recall(доля P из всех найденных Р): 0.0224 F1(среднее гармоническое precision и recall): 0.0423\n",
      "Модель 2: Accuracy(доля правильных ответов): 0.6730 Precision(доля объектов ТР): 0.2260 Recall(доля P из всех найденных Р): 0.6771 F1(среднее гармоническое precision и recall): 0.3389\n",
      "Модель 3: Accuracy(доля правильных ответов): 0.6730 Precision(доля объектов ТР): 0.2261 Recall(доля P из всех найденных Р): 0.6776 F1(среднее гармоническое precision и recall): 0.3391\n"
     ]
    }
   ],
   "source": [
    "# к сожалению, отличия парметров, матрицы ошибок и ROC AUC от второй модели минимальны, остановимся на второй модели\n",
    "print(\"Модель 1:\", 'Accuracy(доля правильных ответов): %.4f' % accuracy_score(y_test, y_pred),\n",
    "      'Precision(доля объектов ТР): %.4f' % precision_score(y_test, y_pred),\n",
    "      'Recall(доля P из всех найденных Р): %.4f' % recall_score(y_test, y_pred),\n",
    "      'F1(среднее гармоническое precision и recall): %.4f' % f1_score(y_test, y_pred))\n",
    "print(\"Модель 2:\", 'Accuracy(доля правильных ответов): %.4f' % accuracy_score(y_test, y_pred2),\n",
    "      'Precision(доля объектов ТР): %.4f' % precision_score(y_test, y_pred2),\n",
    "      'Recall(доля P из всех найденных Р): %.4f' % recall_score(y_test, y_pred2),\n",
    "      'F1(среднее гармоническое precision и recall): %.4f' % f1_score(y_test, y_pred2))\n",
    "print(\"Модель 3:\", 'Accuracy(доля правильных ответов): %.4f' % accuracy_score(y_test, y_pred3),\n",
    "      'Precision(доля объектов ТР): %.4f' % precision_score(y_test, y_pred3),\n",
    "      'Recall(доля P из всех найденных Р): %.4f' % recall_score(y_test, y_pred3),\n",
    "      'F1(среднее гармоническое precision и recall): %.4f' % f1_score(y_test, y_pred3))"
   ]
  },
  {
   "cell_type": "code",
   "execution_count": 152,
   "metadata": {
    "colab": {
     "base_uri": "https://localhost:8080/",
     "height": 279
    },
    "id": "nPZf-d-86SwJ",
    "outputId": "0c1fff3d-7c63-4f8e-a6fb-ee2d2f8ab944"
   },
   "outputs": [
    {
     "data": {
      "image/png": "[encoded data removed]",
      "text/plain": [
       "<Figure size 432x288 with 2 Axes>"
      ]
     },
     "metadata": {
      "tags": []
     },
     "output_type": "display_data"
    }
   ],
   "source": [
    "confusion_matrix3 = pd.crosstab(y_test, y_pred3, rownames=['True'], colnames=['Predicted'])\n",
    "\n",
    "sns.heatmap(confusion_matrix3,fmt='d', annot=True,cmap='Blues')\n",
    "plt.show()"
   ]
  },
  {
   "cell_type": "code",
   "execution_count": 153,
   "metadata": {
    "colab": {
     "base_uri": "https://localhost:8080/",
     "height": 295
    },
    "id": "LXVhQ-6v7YFu",
    "outputId": "1efd4ad4-c9bd-49d9-ece0-95ccfbbec97c"
   },
   "outputs": [
    {
     "data": {
      "image/png": "[encoded data removed]",
      "text/plain": [
       "<Figure size 432x288 with 1 Axes>"
      ]
     },
     "metadata": {
      "tags": []
     },
     "output_type": "display_data"
    }
   ],
   "source": [
    "fpr, tpr, threshold = roc_curve(y_test, y_pred_prob3)\n",
    "roc_auc = roc_auc_score(y_test, y_pred_prob3)\n",
    "\n",
    "plt.figure()\n",
    "plt.plot([0, 1], label='Baseline', linestyle='--')\n",
    "plt.plot(fpr, tpr, label = 'Regression')\n",
    "plt.title('Logistic Regression ROC AUC = %0.3f' % roc_auc)\n",
    "plt.ylabel('True Positive Rate')\n",
    "plt.xlabel('False Positive Rate')\n",
    "plt.legend(loc = 'lower right')\n",
    "plt.show()"
   ]
  },
  {
   "cell_type": "markdown",
   "metadata": {
    "id": "WM8oMXsnQXd1"
   },
   "source": [
    "Финальная модель и формирование файла с искомыми признаками"
   ]
  },
  {
   "cell_type": "code",
   "execution_count": 154,
   "metadata": {
    "id": "Jbk4CXJ-77ke"
   },
   "outputs": [],
   "source": [
    "train_data = df.query('Train == 1').drop(['Train', 'client_id']+drop_cols, axis=1)\n",
    "test_data = df.query('Train == 0').drop(['Train', 'client_id']+drop_cols, axis=1)"
   ]
  },
  {
   "cell_type": "code",
   "execution_count": 155,
   "metadata": {
    "id": "_7tvHLeE8nAC"
   },
   "outputs": [],
   "source": [
    "X_train=train_data.drop(['default'], axis=1)\n",
    "y_train = train_data.default.values\n",
    "X_test = test_data.drop(['default'], axis=1)"
   ]
  },
  {
   "cell_type": "code",
   "execution_count": null,
   "metadata": {
    "id": "z3VeIZTG8wGQ"
   },
   "outputs": [],
   "source": [
    "model = LogisticRegression(random_state=RANDOM_SEED, \n",
    "                           C=1, \n",
    "                           class_weight= 'balanced', \n",
    "                           dual= False, \n",
    "                           fit_intercept= True,\n",
    "                           penalty= 'l2', \n",
    "                           solver = 'sag')\n",
    "\n",
    "\n",
    "model.fit(X_train, y_train)"
   ]
  },
  {
   "cell_type": "code",
   "execution_count": 157,
   "metadata": {
    "id": "SjEo4j3B7SzR"
   },
   "outputs": [],
   "source": [
    "y_pred_prob = model.predict_proba(X_test)[:,1]\n",
    "\n",
    "\n",
    "final = pd.DataFrame(data_test.client_id)\n",
    "final['default']=y_pred_prob\n",
    "final.to_csv('submission.csv', index=False)"
   ]
  },
  {
   "cell_type": "code",
   "execution_count": 158,
   "metadata": {
    "colab": {
     "base_uri": "https://localhost:8080/",
     "height": 407
    },
    "id": "G93v1ta8AKce",
    "outputId": "26083793-b2cb-4854-814e-398066dfe000"
   },
   "outputs": [
    {
     "data": {
      "text/html": [
       "<div>\n",
       "<style scoped>\n",
       "    .dataframe tbody tr th:only-of-type {\n",
       "        vertical-align: middle;\n",
       "    }\n",
       "\n",
       "    .dataframe tbody tr th {\n",
       "        vertical-align: top;\n",
       "    }\n",
       "\n",
       "    .dataframe thead th {\n",
       "        text-align: right;\n",
       "    }\n",
       "</style>\n",
       "<table border=\"1\" class=\"dataframe\">\n",
       "  <thead>\n",
       "    <tr style=\"text-align: right;\">\n",
       "      <th></th>\n",
       "      <th>client_id</th>\n",
       "      <th>default</th>\n",
       "    </tr>\n",
       "  </thead>\n",
       "  <tbody>\n",
       "    <tr>\n",
       "      <th>0</th>\n",
       "      <td>74835</td>\n",
       "      <td>0.211396</td>\n",
       "    </tr>\n",
       "    <tr>\n",
       "      <th>1</th>\n",
       "      <td>17527</td>\n",
       "      <td>0.796644</td>\n",
       "    </tr>\n",
       "    <tr>\n",
       "      <th>2</th>\n",
       "      <td>75683</td>\n",
       "      <td>0.323698</td>\n",
       "    </tr>\n",
       "    <tr>\n",
       "      <th>3</th>\n",
       "      <td>26883</td>\n",
       "      <td>0.408235</td>\n",
       "    </tr>\n",
       "    <tr>\n",
       "      <th>4</th>\n",
       "      <td>28862</td>\n",
       "      <td>0.166081</td>\n",
       "    </tr>\n",
       "    <tr>\n",
       "      <th>...</th>\n",
       "      <td>...</td>\n",
       "      <td>...</td>\n",
       "    </tr>\n",
       "    <tr>\n",
       "      <th>36344</th>\n",
       "      <td>83775</td>\n",
       "      <td>0.767348</td>\n",
       "    </tr>\n",
       "    <tr>\n",
       "      <th>36345</th>\n",
       "      <td>106254</td>\n",
       "      <td>0.084806</td>\n",
       "    </tr>\n",
       "    <tr>\n",
       "      <th>36346</th>\n",
       "      <td>81852</td>\n",
       "      <td>0.788298</td>\n",
       "    </tr>\n",
       "    <tr>\n",
       "      <th>36347</th>\n",
       "      <td>1971</td>\n",
       "      <td>0.602149</td>\n",
       "    </tr>\n",
       "    <tr>\n",
       "      <th>36348</th>\n",
       "      <td>69044</td>\n",
       "      <td>0.719189</td>\n",
       "    </tr>\n",
       "  </tbody>\n",
       "</table>\n",
       "<p>36349 rows × 2 columns</p>\n",
       "</div>"
      ],
      "text/plain": [
       "       client_id   default\n",
       "0          74835  0.211396\n",
       "1          17527  0.796644\n",
       "2          75683  0.323698\n",
       "3          26883  0.408235\n",
       "4          28862  0.166081\n",
       "...          ...       ...\n",
       "36344      83775  0.767348\n",
       "36345     106254  0.084806\n",
       "36346      81852  0.788298\n",
       "36347       1971  0.602149\n",
       "36348      69044  0.719189\n",
       "\n",
       "[36349 rows x 2 columns]"
      ]
     },
     "execution_count": 158,
     "metadata": {
      "tags": []
     },
     "output_type": "execute_result"
    }
   ],
   "source": [
    "final"
   ]
  },
  {
   "cell_type": "code",
   "execution_count": null,
   "metadata": {
    "id": "h6v_XdEsALIn"
   },
   "outputs": [],
   "source": []
  }
 ],
 "metadata": {
  "colab": {
   "name": "DST_Scoring.ipynb",
   "provenance": []
  },
  "kernelspec": {
   "display_name": "Python 3",
   "language": "python",
   "name": "python3"
  },
  "language_info": {
   "codemirror_mode": {
    "name": "ipython",
    "version": 3
   },
   "file_extension": ".py",
   "mimetype": "text/x-python",
   "name": "python",
   "nbconvert_exporter": "python",
   "pygments_lexer": "ipython3",
   "version": "3.7.6"
  }
 },
 "nbformat": 4,
 "nbformat_minor": 1
}
